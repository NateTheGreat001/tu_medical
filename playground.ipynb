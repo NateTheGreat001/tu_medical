{
 "cells": [
  {
   "cell_type": "code",
   "execution_count": 47,
   "metadata": {
    "ExecuteTime": {
     "end_time": "2023-08-15T14:24:17.413595311Z",
     "start_time": "2023-08-15T14:24:17.309515486Z"
    }
   },
   "outputs": [],
   "source": [
    "import numpy as np\n",
    "import pandas as pd\n",
    "from tensorflow import keras\n",
    "from sklearn.model_selection import train_test_split\n",
    "import numpy as np\n",
    "import matplotlib.pyplot as plt\n",
    "import seaborn as sns\n",
    "\n",
    "from tensorflow.keras.models import Sequential\n",
    "from tensorflow.keras.layers import LSTM, Dense\n",
    "from tensorflow.keras.regularizers import l1_l2\n",
    "from tensorflow import keras\n",
    "import tensorflow as tf\n",
    "\n",
    "from joblib import Parallel, delayed\n",
    "\n",
    "np.set_printoptions(suppress=True, precision=6)\n",
    "pd.set_option('display.float_format', '{:.6f}'.format)"
   ]
  },
  {
   "cell_type": "code",
   "execution_count": 48,
   "metadata": {
    "ExecuteTime": {
     "end_time": "2023-08-15T14:24:17.451719290Z",
     "start_time": "2023-08-15T14:24:17.350646444Z"
    }
   },
   "outputs": [],
   "source": [
    "df = pd.read_csv(\"data/otu_table_example.csv\", index_col=\"Unnamed: 0\").T"
   ]
  },
  {
   "cell_type": "code",
   "execution_count": 49,
   "metadata": {
    "ExecuteTime": {
     "end_time": "2023-08-15T14:24:17.452136917Z",
     "start_time": "2023-08-15T14:24:17.446870456Z"
    }
   },
   "outputs": [
    {
     "name": "stdout",
     "output_type": "stream",
     "text": [
      "             1050608  130468   3589405  355102   1081058  189592   354275   \\\n",
      "E000823.1.8        0        0        0        0        0        0        0   \n",
      "E000823.2.6        0        0        0        0        0        0        0   \n",
      "E000823.4.0        0        0        0        0        0        0        0   \n",
      "E000823.5.0        0        0        0        0        0        0        0   \n",
      "E000823.5.7        0        0        0        0        0        0        0   \n",
      "\n",
      "             4327628  326749   183857   ...  317924   4294457  2655741  \\\n",
      "E000823.1.8        0        0        0  ...        0        0        0   \n",
      "E000823.2.6        0        0        0  ...        0        0        0   \n",
      "E000823.4.0        0        0        0  ...        0        0        0   \n",
      "E000823.5.0        0        0        0  ...        0        0        0   \n",
      "E000823.5.7        0        0        0  ...        0        0        0   \n",
      "\n",
      "             858535   186092   299820   225846   4306049  366846   1124370  \n",
      "E000823.1.8        0        0        0        0        0        0        0  \n",
      "E000823.2.6        0        0        0        0        0        0        0  \n",
      "E000823.4.0        0        0        0        1        0        0        0  \n",
      "E000823.5.0        0        0        0        0        0        0        0  \n",
      "E000823.5.7        0        0        0        0        0        0        0  \n",
      "\n",
      "[5 rows x 7244 columns]\n"
     ]
    }
   ],
   "source": [
    "print(df.head())"
   ]
  },
  {
   "cell_type": "code",
   "execution_count": 50,
   "metadata": {
    "ExecuteTime": {
     "end_time": "2023-08-15T14:24:18.493648614Z",
     "start_time": "2023-08-15T14:24:17.451870438Z"
    }
   },
   "outputs": [],
   "source": [
    "# get rid of features that are way too sparse\n",
    "zero_values_percentage_cutoff = .9\n",
    "\n",
    "zero_counts = pd.Series([sum(df[col] == 0) for col in df.columns], index=df.columns)\n",
    "zero_pcts = zero_counts / len(df)\n",
    "populated_feats = zero_pcts[zero_pcts < zero_values_percentage_cutoff].index\n",
    "df = df[populated_feats]"
   ]
  },
  {
   "cell_type": "code",
   "execution_count": 51,
   "metadata": {
    "ExecuteTime": {
     "end_time": "2023-08-15T14:24:18.510788986Z",
     "start_time": "2023-08-15T14:24:18.496166940Z"
    }
   },
   "outputs": [
    {
     "data": {
      "text/plain": "              189592   183857   4343580  198956   177319   505587   194104   \\\nE000823.1.8         0        0        2        0        0        0        0   \nE000823.2.6         0        0        1        0        0        0        0   \nE000823.4.0         0        0        0        0        0        0        0   \nE000823.5.0         0        0        0        0        0        0        0   \nE000823.5.7         0        0        0        0        0        0        0   \n...               ...      ...      ...      ...      ...      ...      ...   \nE014086.30.4        1        0        4        0       13        0        6   \nE014086.32.4        0        0        0        0       44        0       16   \nE014086.33.5        0        0        3        0       11        0       11   \nE014086.34.4        1        0        1        0        9        0        9   \nE014086.36.0        0        0        2        1        8        0        1   \n\n              193778   362389   2017729  ...  368462   356360   183438   \\\nE000823.1.8         0        0        0  ...        0        0        0   \nE000823.2.6         0        0        0  ...        0        0        0   \nE000823.4.0         0        0        0  ...        1        0        0   \nE000823.5.0         0        0        0  ...        0        0        0   \nE000823.5.7         0        0        0  ...        0        0        0   \n...               ...      ...      ...  ...      ...      ...      ...   \nE014086.30.4        0        1        0  ...        0        0        0   \nE014086.32.4        0        0        3  ...        0        4        0   \nE014086.33.5        0        0        2  ...        0        3        0   \nE014086.34.4        0        0        0  ...        0        1        0   \nE014086.36.0        0        0        5  ...        0        2        0   \n\n              365385   178849   580008   296945   267718   354850   317924   \nE000823.1.8         1        0        0        0        0        7        0  \nE000823.2.6         1        0        0        0        0        2        0  \nE000823.4.0         4        0        0        0        0        4        0  \nE000823.5.0         2        0        0        0        0        0        0  \nE000823.5.7         0        0        0        0        0        0        0  \n...               ...      ...      ...      ...      ...      ...      ...  \nE014086.30.4        1        0      446        0        5        7        1  \nE014086.32.4        0        0      851        0        3       50        1  \nE014086.33.5        0        0      664        0        3       46        1  \nE014086.34.4        0        0      180        0        3       28        0  \nE014086.36.0        0        0       87        0        3       16        0  \n\n[521 rows x 1440 columns]",
      "text/html": "<div>\n<style scoped>\n    .dataframe tbody tr th:only-of-type {\n        vertical-align: middle;\n    }\n\n    .dataframe tbody tr th {\n        vertical-align: top;\n    }\n\n    .dataframe thead th {\n        text-align: right;\n    }\n</style>\n<table border=\"1\" class=\"dataframe\">\n  <thead>\n    <tr style=\"text-align: right;\">\n      <th></th>\n      <th>189592</th>\n      <th>183857</th>\n      <th>4343580</th>\n      <th>198956</th>\n      <th>177319</th>\n      <th>505587</th>\n      <th>194104</th>\n      <th>193778</th>\n      <th>362389</th>\n      <th>2017729</th>\n      <th>...</th>\n      <th>368462</th>\n      <th>356360</th>\n      <th>183438</th>\n      <th>365385</th>\n      <th>178849</th>\n      <th>580008</th>\n      <th>296945</th>\n      <th>267718</th>\n      <th>354850</th>\n      <th>317924</th>\n    </tr>\n  </thead>\n  <tbody>\n    <tr>\n      <th>E000823.1.8</th>\n      <td>0</td>\n      <td>0</td>\n      <td>2</td>\n      <td>0</td>\n      <td>0</td>\n      <td>0</td>\n      <td>0</td>\n      <td>0</td>\n      <td>0</td>\n      <td>0</td>\n      <td>...</td>\n      <td>0</td>\n      <td>0</td>\n      <td>0</td>\n      <td>1</td>\n      <td>0</td>\n      <td>0</td>\n      <td>0</td>\n      <td>0</td>\n      <td>7</td>\n      <td>0</td>\n    </tr>\n    <tr>\n      <th>E000823.2.6</th>\n      <td>0</td>\n      <td>0</td>\n      <td>1</td>\n      <td>0</td>\n      <td>0</td>\n      <td>0</td>\n      <td>0</td>\n      <td>0</td>\n      <td>0</td>\n      <td>0</td>\n      <td>...</td>\n      <td>0</td>\n      <td>0</td>\n      <td>0</td>\n      <td>1</td>\n      <td>0</td>\n      <td>0</td>\n      <td>0</td>\n      <td>0</td>\n      <td>2</td>\n      <td>0</td>\n    </tr>\n    <tr>\n      <th>E000823.4.0</th>\n      <td>0</td>\n      <td>0</td>\n      <td>0</td>\n      <td>0</td>\n      <td>0</td>\n      <td>0</td>\n      <td>0</td>\n      <td>0</td>\n      <td>0</td>\n      <td>0</td>\n      <td>...</td>\n      <td>1</td>\n      <td>0</td>\n      <td>0</td>\n      <td>4</td>\n      <td>0</td>\n      <td>0</td>\n      <td>0</td>\n      <td>0</td>\n      <td>4</td>\n      <td>0</td>\n    </tr>\n    <tr>\n      <th>E000823.5.0</th>\n      <td>0</td>\n      <td>0</td>\n      <td>0</td>\n      <td>0</td>\n      <td>0</td>\n      <td>0</td>\n      <td>0</td>\n      <td>0</td>\n      <td>0</td>\n      <td>0</td>\n      <td>...</td>\n      <td>0</td>\n      <td>0</td>\n      <td>0</td>\n      <td>2</td>\n      <td>0</td>\n      <td>0</td>\n      <td>0</td>\n      <td>0</td>\n      <td>0</td>\n      <td>0</td>\n    </tr>\n    <tr>\n      <th>E000823.5.7</th>\n      <td>0</td>\n      <td>0</td>\n      <td>0</td>\n      <td>0</td>\n      <td>0</td>\n      <td>0</td>\n      <td>0</td>\n      <td>0</td>\n      <td>0</td>\n      <td>0</td>\n      <td>...</td>\n      <td>0</td>\n      <td>0</td>\n      <td>0</td>\n      <td>0</td>\n      <td>0</td>\n      <td>0</td>\n      <td>0</td>\n      <td>0</td>\n      <td>0</td>\n      <td>0</td>\n    </tr>\n    <tr>\n      <th>...</th>\n      <td>...</td>\n      <td>...</td>\n      <td>...</td>\n      <td>...</td>\n      <td>...</td>\n      <td>...</td>\n      <td>...</td>\n      <td>...</td>\n      <td>...</td>\n      <td>...</td>\n      <td>...</td>\n      <td>...</td>\n      <td>...</td>\n      <td>...</td>\n      <td>...</td>\n      <td>...</td>\n      <td>...</td>\n      <td>...</td>\n      <td>...</td>\n      <td>...</td>\n      <td>...</td>\n    </tr>\n    <tr>\n      <th>E014086.30.4</th>\n      <td>1</td>\n      <td>0</td>\n      <td>4</td>\n      <td>0</td>\n      <td>13</td>\n      <td>0</td>\n      <td>6</td>\n      <td>0</td>\n      <td>1</td>\n      <td>0</td>\n      <td>...</td>\n      <td>0</td>\n      <td>0</td>\n      <td>0</td>\n      <td>1</td>\n      <td>0</td>\n      <td>446</td>\n      <td>0</td>\n      <td>5</td>\n      <td>7</td>\n      <td>1</td>\n    </tr>\n    <tr>\n      <th>E014086.32.4</th>\n      <td>0</td>\n      <td>0</td>\n      <td>0</td>\n      <td>0</td>\n      <td>44</td>\n      <td>0</td>\n      <td>16</td>\n      <td>0</td>\n      <td>0</td>\n      <td>3</td>\n      <td>...</td>\n      <td>0</td>\n      <td>4</td>\n      <td>0</td>\n      <td>0</td>\n      <td>0</td>\n      <td>851</td>\n      <td>0</td>\n      <td>3</td>\n      <td>50</td>\n      <td>1</td>\n    </tr>\n    <tr>\n      <th>E014086.33.5</th>\n      <td>0</td>\n      <td>0</td>\n      <td>3</td>\n      <td>0</td>\n      <td>11</td>\n      <td>0</td>\n      <td>11</td>\n      <td>0</td>\n      <td>0</td>\n      <td>2</td>\n      <td>...</td>\n      <td>0</td>\n      <td>3</td>\n      <td>0</td>\n      <td>0</td>\n      <td>0</td>\n      <td>664</td>\n      <td>0</td>\n      <td>3</td>\n      <td>46</td>\n      <td>1</td>\n    </tr>\n    <tr>\n      <th>E014086.34.4</th>\n      <td>1</td>\n      <td>0</td>\n      <td>1</td>\n      <td>0</td>\n      <td>9</td>\n      <td>0</td>\n      <td>9</td>\n      <td>0</td>\n      <td>0</td>\n      <td>0</td>\n      <td>...</td>\n      <td>0</td>\n      <td>1</td>\n      <td>0</td>\n      <td>0</td>\n      <td>0</td>\n      <td>180</td>\n      <td>0</td>\n      <td>3</td>\n      <td>28</td>\n      <td>0</td>\n    </tr>\n    <tr>\n      <th>E014086.36.0</th>\n      <td>0</td>\n      <td>0</td>\n      <td>2</td>\n      <td>1</td>\n      <td>8</td>\n      <td>0</td>\n      <td>1</td>\n      <td>0</td>\n      <td>0</td>\n      <td>5</td>\n      <td>...</td>\n      <td>0</td>\n      <td>2</td>\n      <td>0</td>\n      <td>0</td>\n      <td>0</td>\n      <td>87</td>\n      <td>0</td>\n      <td>3</td>\n      <td>16</td>\n      <td>0</td>\n    </tr>\n  </tbody>\n</table>\n<p>521 rows × 1440 columns</p>\n</div>"
     },
     "execution_count": 51,
     "metadata": {},
     "output_type": "execute_result"
    }
   ],
   "source": [
    "df"
   ]
  },
  {
   "cell_type": "code",
   "execution_count": 52,
   "outputs": [],
   "source": [
    "def forward_rolling_average(series, window_size):\n",
    "    \n",
    "    original_idxs = series.index\n",
    "    \n",
    "    series = series.reset_index(drop=True)\n",
    "    \n",
    "    for idx in range(len(series) - window_size):\n",
    "       \n",
    "        next_vals = series[idx:idx+window_size]\n",
    "        \n",
    "        #print(idx, next_vals.tolist())\n",
    "        \n",
    "        series[idx] = next_vals.mean()\n",
    "    \n",
    "    series.index = original_idxs\n",
    "    \n",
    "    series = series.iloc[:-window_size]\n",
    "            \n",
    "    return series\n",
    "    "
   ],
   "metadata": {
    "collapsed": false,
    "ExecuteTime": {
     "end_time": "2023-08-15T14:24:18.563010258Z",
     "start_time": "2023-08-15T14:24:18.505162628Z"
    }
   }
  },
  {
   "cell_type": "code",
   "execution_count": 53,
   "outputs": [
    {
     "data": {
      "text/plain": "0    1\n1    2\n2    3\n3    4\n4    5\n5    6\n6    7\n7    8\ndtype: int64"
     },
     "execution_count": 53,
     "metadata": {},
     "output_type": "execute_result"
    }
   ],
   "source": [
    "window_size = 3\n",
    "sequence = pd.Series([0,1,2,3,4,5,6,7,8,9,10])\n",
    "\n",
    "forward_rolling_average(sequence, window_size)"
   ],
   "metadata": {
    "collapsed": false,
    "ExecuteTime": {
     "end_time": "2023-08-15T14:24:18.621573023Z",
     "start_time": "2023-08-15T14:24:18.533477306Z"
    }
   }
  },
  {
   "cell_type": "code",
   "execution_count": 54,
   "outputs": [],
   "source": [
    "#def smooth_it_out(df, rolling_window=5):\n",
    "#    # Define the window size for the rolling average\n",
    "#    window_size = 5\n",
    "#    \n",
    "#    # Apply rolling mean to numeric columns\n",
    "#    df = df.shift(-window_size + 1).rolling(window=window_size).mean()\n",
    "#    \n",
    "#    return df"
   ],
   "metadata": {
    "collapsed": false,
    "ExecuteTime": {
     "end_time": "2023-08-15T14:24:18.633113608Z",
     "start_time": "2023-08-15T14:24:18.563765149Z"
    }
   }
  },
  {
   "cell_type": "code",
   "execution_count": 55,
   "outputs": [],
   "source": [
    "def smooth_it_out(df, window_size=5, n_jobs=32):\n",
    "    \n",
    "    smooth_cols = Parallel(n_jobs=-n_jobs)(delayed(forward_rolling_average)(df[col], window_size) for col in df.columns)\n",
    "    \n",
    "    for idx, col in enumerate(df.columns):\n",
    "        df[col] = smooth_cols[idx]\n",
    "        \n",
    "    df = df[:-window_size]\n",
    "    \n",
    "    return df"
   ],
   "metadata": {
    "collapsed": false,
    "ExecuteTime": {
     "end_time": "2023-08-15T14:24:18.656034271Z",
     "start_time": "2023-08-15T14:24:18.604711965Z"
    }
   }
  },
  {
   "cell_type": "code",
   "execution_count": 56,
   "outputs": [],
   "source": [
    "def feature_wise_scaling(df):\n",
    "    for col in df.columns:\n",
    "        _min_ = df[col].min()\n",
    "        _max_ = df[col].max()\n",
    "        \n",
    "        df[col] = (df[col] - _min_) / (_max_ - _min_)\n",
    "        \n",
    "    return df      "
   ],
   "metadata": {
    "collapsed": false,
    "ExecuteTime": {
     "end_time": "2023-08-15T14:24:18.656421691Z",
     "start_time": "2023-08-15T14:24:18.645684709Z"
    }
   }
  },
  {
   "cell_type": "code",
   "execution_count": 57,
   "outputs": [],
   "source": [
    "def preprocess(feats_df, seq_length):\n",
    "    num_features = len(feats_df.columns)\n",
    "    \n",
    "    X_sequences = []\n",
    "    y_targets = []\n",
    "    \n",
    "    for i in range(len(feats_df) - seq_length):\n",
    "        X_sequences.append(feats_df.iloc[i:i+seq_length])\n",
    "        y_targets.append(feats_df.iloc[i+seq_length])\n",
    "    \n",
    "    X_sequences = np.array(X_sequences)\n",
    "    y_targets = np.array(y_targets)\n",
    "    \n",
    "    X_sequences = X_sequences.reshape(-1, seq_length, num_features)\n",
    "    \n",
    "    return X_sequences, y_targets"
   ],
   "metadata": {
    "collapsed": false,
    "ExecuteTime": {
     "end_time": "2023-08-15T14:24:18.679988357Z",
     "start_time": "2023-08-15T14:24:18.653433848Z"
    }
   }
  },
  {
   "cell_type": "code",
   "execution_count": 58,
   "metadata": {
    "ExecuteTime": {
     "end_time": "2023-08-15T14:24:18.723801793Z",
     "start_time": "2023-08-15T14:24:18.681602267Z"
    }
   },
   "outputs": [],
   "source": [
    "def mae_ignore_zeros(y_true, y_pred, false_positives_penalty_factor=0.5):\n",
    "    \n",
    "    # Find indices where y_true is not zero\n",
    "    non_zero_indices = tf.where(tf.not_equal(y_true, 0))\n",
    "    \n",
    "    # Gather the non-zero elements from y_true and y_pred using the indices\n",
    "    y_true_non_zero = tf.gather_nd(y_true, non_zero_indices)\n",
    "    y_pred_non_zero = tf.gather_nd(y_pred, non_zero_indices)\n",
    "    \n",
    "    y_true_non_zero = tf.cast(y_true_non_zero, tf.float64)\n",
    "    y_pred_non_zero = tf.cast(y_pred_non_zero, tf.float64)\n",
    "    \n",
    "    # Calculate MAE on the non-zero elements\n",
    "    mae_non_zero = tf.reduce_mean(tf.abs(y_pred_non_zero - y_true_non_zero))\n",
    "    \n",
    "    # Find indices where y_true is zero \n",
    "    zero_indices = tf.where(tf.equal(y_true, 0))\n",
    "    \n",
    "    # Gather the corresponding y_pred values\n",
    "    y_pred_zero = tf.gather_nd(y_pred, zero_indices)\n",
    "    \n",
    "    y_pred_zero = tf.cast(y_pred_zero, tf.float64)\n",
    "    \n",
    "    # Calculate the average of false positives\n",
    "    false_positives_avg = tf.reduce_mean(y_pred_zero)\n",
    "    \n",
    "    # Combine the MAE on non-zero elements with the average of false positives\n",
    "    mae_ignore_zeros = mae_non_zero + (false_positives_avg * false_positives_penalty_factor)\n",
    "    \n",
    "    return mae_ignore_zeros"
   ]
  },
  {
   "cell_type": "code",
   "execution_count": 59,
   "metadata": {
    "ExecuteTime": {
     "end_time": "2023-08-15T14:24:18.765280874Z",
     "start_time": "2023-08-15T14:24:18.723678979Z"
    }
   },
   "outputs": [
    {
     "data": {
      "text/plain": "<tf.Tensor: shape=(), dtype=int32, numpy=3>"
     },
     "execution_count": 59,
     "metadata": {},
     "output_type": "execute_result"
    }
   ],
   "source": [
    "y_true = [0,0,10]\n",
    "y_pred = [0,0,0]\n",
    "\n",
    "keras.losses.mae(y_true, y_pred)"
   ]
  },
  {
   "cell_type": "code",
   "execution_count": 60,
   "metadata": {
    "ExecuteTime": {
     "end_time": "2023-08-15T14:24:18.775882828Z",
     "start_time": "2023-08-15T14:24:18.764729993Z"
    }
   },
   "outputs": [
    {
     "data": {
      "text/plain": "<tf.Tensor: shape=(), dtype=float64, numpy=10.0>"
     },
     "execution_count": 60,
     "metadata": {},
     "output_type": "execute_result"
    }
   ],
   "source": [
    "mae_ignore_zeros(y_true, y_pred)"
   ]
  },
  {
   "cell_type": "code",
   "execution_count": 61,
   "outputs": [
    {
     "data": {
      "text/plain": "              189592   183857   4343580  198956    177319   505587    194104   \\\nE000823.1.8  0.000000 0.000000 0.600000 0.000000  0.000000 0.000000  0.000000   \nE000823.2.6  0.000000 0.200000 0.200000 0.000000  0.000000 0.600000  0.000000   \nE000823.4.0  0.000000 0.200000 0.000000 0.000000  0.000000 0.600000  0.000000   \nE000823.5.0  0.000000 0.400000 0.200000 0.000000  0.000000 0.600000  0.000000   \nE000823.5.7  0.200000 0.600000 0.200000 0.000000  2.600000 0.600000  8.400000   \n...               ...      ...      ...      ...       ...      ...       ...   \nE014086.22.5 1.200000 0.000000 1.600000 0.000000  3.200000 0.000000  8.000000   \nE014086.23.4 1.400000 0.000000 2.400000 0.000000  5.200000 0.000000  7.800000   \nE014086.24.5 1.400000 0.000000 1.400000 0.000000 13.800000 0.000000 11.000000   \nE014086.26.4 0.200000 0.000000 2.000000 0.000000 15.600000 0.000000 10.200000   \nE014086.28.5 0.400000 0.000000 2.000000 0.000000 17.200000 0.000000 10.200000   \n\n              193778   362389   2017729  ...  368462   356360   183438   \\\nE000823.1.8  0.000000 0.000000 0.000000  ... 0.200000 0.000000 0.000000   \nE000823.2.6  0.000000 0.400000 0.000000  ... 0.200000 0.000000 0.000000   \nE000823.4.0  0.000000 0.400000 0.000000  ... 0.200000 0.000000 0.000000   \nE000823.5.0  0.000000 0.400000 0.000000  ... 0.000000 0.000000 0.000000   \nE000823.5.7  0.000000 1.000000 0.200000  ... 0.600000 0.000000 0.800000   \n...               ...      ...      ...  ...      ...      ...      ...   \nE014086.22.5 0.000000 0.000000 0.800000  ... 0.000000 0.600000 0.000000   \nE014086.23.4 0.000000 0.200000 0.800000  ... 0.000000 0.400000 0.000000   \nE014086.24.5 0.000000 0.200000 1.400000  ... 0.000000 1.200000 0.000000   \nE014086.26.4 0.000000 0.200000 1.600000  ... 0.000000 1.800000 0.000000   \nE014086.28.5 0.000000 0.200000 1.600000  ... 0.000000 1.800000 0.000000   \n\n               365385   178849     580008   296945   267718    354850   \\\nE000823.1.8   1.600000 0.000000   0.000000 0.000000 0.000000  2.600000   \nE000823.2.6   2.000000 0.000000   0.000000 0.000000 0.000000  1.200000   \nE000823.4.0   1.800000 0.000000   0.000000 0.000000 0.000000  0.800000   \nE000823.5.0   1.000000 0.000000   0.000000 0.000000 0.000000  0.000000   \nE000823.5.7  13.800000 0.000000   0.000000 0.000000 0.000000  0.800000   \n...                ...      ...        ...      ...      ...       ...   \nE014086.22.5 29.200000 0.000000 397.600000 0.000000 8.200000 17.400000   \nE014086.23.4 29.400000 0.000000 486.800000 0.000000 8.800000 12.600000   \nE014086.24.5 29.400000 0.000000 657.000000 0.000000 9.400000 19.600000   \nE014086.26.4  0.200000 0.000000 673.800000 0.000000 6.200000 22.000000   \nE014086.28.5  0.200000 0.000000 523.400000 0.000000 5.200000 26.400000   \n\n              317924   \nE000823.1.8  0.000000  \nE000823.2.6  0.000000  \nE000823.4.0  0.000000  \nE000823.5.0  0.000000  \nE000823.5.7  0.400000  \n...               ...  \nE014086.22.5 0.600000  \nE014086.23.4 0.800000  \nE014086.24.5 0.600000  \nE014086.26.4 0.800000  \nE014086.28.5 0.600000  \n\n[516 rows x 1440 columns]",
      "text/html": "<div>\n<style scoped>\n    .dataframe tbody tr th:only-of-type {\n        vertical-align: middle;\n    }\n\n    .dataframe tbody tr th {\n        vertical-align: top;\n    }\n\n    .dataframe thead th {\n        text-align: right;\n    }\n</style>\n<table border=\"1\" class=\"dataframe\">\n  <thead>\n    <tr style=\"text-align: right;\">\n      <th></th>\n      <th>189592</th>\n      <th>183857</th>\n      <th>4343580</th>\n      <th>198956</th>\n      <th>177319</th>\n      <th>505587</th>\n      <th>194104</th>\n      <th>193778</th>\n      <th>362389</th>\n      <th>2017729</th>\n      <th>...</th>\n      <th>368462</th>\n      <th>356360</th>\n      <th>183438</th>\n      <th>365385</th>\n      <th>178849</th>\n      <th>580008</th>\n      <th>296945</th>\n      <th>267718</th>\n      <th>354850</th>\n      <th>317924</th>\n    </tr>\n  </thead>\n  <tbody>\n    <tr>\n      <th>E000823.1.8</th>\n      <td>0.000000</td>\n      <td>0.000000</td>\n      <td>0.600000</td>\n      <td>0.000000</td>\n      <td>0.000000</td>\n      <td>0.000000</td>\n      <td>0.000000</td>\n      <td>0.000000</td>\n      <td>0.000000</td>\n      <td>0.000000</td>\n      <td>...</td>\n      <td>0.200000</td>\n      <td>0.000000</td>\n      <td>0.000000</td>\n      <td>1.600000</td>\n      <td>0.000000</td>\n      <td>0.000000</td>\n      <td>0.000000</td>\n      <td>0.000000</td>\n      <td>2.600000</td>\n      <td>0.000000</td>\n    </tr>\n    <tr>\n      <th>E000823.2.6</th>\n      <td>0.000000</td>\n      <td>0.200000</td>\n      <td>0.200000</td>\n      <td>0.000000</td>\n      <td>0.000000</td>\n      <td>0.600000</td>\n      <td>0.000000</td>\n      <td>0.000000</td>\n      <td>0.400000</td>\n      <td>0.000000</td>\n      <td>...</td>\n      <td>0.200000</td>\n      <td>0.000000</td>\n      <td>0.000000</td>\n      <td>2.000000</td>\n      <td>0.000000</td>\n      <td>0.000000</td>\n      <td>0.000000</td>\n      <td>0.000000</td>\n      <td>1.200000</td>\n      <td>0.000000</td>\n    </tr>\n    <tr>\n      <th>E000823.4.0</th>\n      <td>0.000000</td>\n      <td>0.200000</td>\n      <td>0.000000</td>\n      <td>0.000000</td>\n      <td>0.000000</td>\n      <td>0.600000</td>\n      <td>0.000000</td>\n      <td>0.000000</td>\n      <td>0.400000</td>\n      <td>0.000000</td>\n      <td>...</td>\n      <td>0.200000</td>\n      <td>0.000000</td>\n      <td>0.000000</td>\n      <td>1.800000</td>\n      <td>0.000000</td>\n      <td>0.000000</td>\n      <td>0.000000</td>\n      <td>0.000000</td>\n      <td>0.800000</td>\n      <td>0.000000</td>\n    </tr>\n    <tr>\n      <th>E000823.5.0</th>\n      <td>0.000000</td>\n      <td>0.400000</td>\n      <td>0.200000</td>\n      <td>0.000000</td>\n      <td>0.000000</td>\n      <td>0.600000</td>\n      <td>0.000000</td>\n      <td>0.000000</td>\n      <td>0.400000</td>\n      <td>0.000000</td>\n      <td>...</td>\n      <td>0.000000</td>\n      <td>0.000000</td>\n      <td>0.000000</td>\n      <td>1.000000</td>\n      <td>0.000000</td>\n      <td>0.000000</td>\n      <td>0.000000</td>\n      <td>0.000000</td>\n      <td>0.000000</td>\n      <td>0.000000</td>\n    </tr>\n    <tr>\n      <th>E000823.5.7</th>\n      <td>0.200000</td>\n      <td>0.600000</td>\n      <td>0.200000</td>\n      <td>0.000000</td>\n      <td>2.600000</td>\n      <td>0.600000</td>\n      <td>8.400000</td>\n      <td>0.000000</td>\n      <td>1.000000</td>\n      <td>0.200000</td>\n      <td>...</td>\n      <td>0.600000</td>\n      <td>0.000000</td>\n      <td>0.800000</td>\n      <td>13.800000</td>\n      <td>0.000000</td>\n      <td>0.000000</td>\n      <td>0.000000</td>\n      <td>0.000000</td>\n      <td>0.800000</td>\n      <td>0.400000</td>\n    </tr>\n    <tr>\n      <th>...</th>\n      <td>...</td>\n      <td>...</td>\n      <td>...</td>\n      <td>...</td>\n      <td>...</td>\n      <td>...</td>\n      <td>...</td>\n      <td>...</td>\n      <td>...</td>\n      <td>...</td>\n      <td>...</td>\n      <td>...</td>\n      <td>...</td>\n      <td>...</td>\n      <td>...</td>\n      <td>...</td>\n      <td>...</td>\n      <td>...</td>\n      <td>...</td>\n      <td>...</td>\n      <td>...</td>\n    </tr>\n    <tr>\n      <th>E014086.22.5</th>\n      <td>1.200000</td>\n      <td>0.000000</td>\n      <td>1.600000</td>\n      <td>0.000000</td>\n      <td>3.200000</td>\n      <td>0.000000</td>\n      <td>8.000000</td>\n      <td>0.000000</td>\n      <td>0.000000</td>\n      <td>0.800000</td>\n      <td>...</td>\n      <td>0.000000</td>\n      <td>0.600000</td>\n      <td>0.000000</td>\n      <td>29.200000</td>\n      <td>0.000000</td>\n      <td>397.600000</td>\n      <td>0.000000</td>\n      <td>8.200000</td>\n      <td>17.400000</td>\n      <td>0.600000</td>\n    </tr>\n    <tr>\n      <th>E014086.23.4</th>\n      <td>1.400000</td>\n      <td>0.000000</td>\n      <td>2.400000</td>\n      <td>0.000000</td>\n      <td>5.200000</td>\n      <td>0.000000</td>\n      <td>7.800000</td>\n      <td>0.000000</td>\n      <td>0.200000</td>\n      <td>0.800000</td>\n      <td>...</td>\n      <td>0.000000</td>\n      <td>0.400000</td>\n      <td>0.000000</td>\n      <td>29.400000</td>\n      <td>0.000000</td>\n      <td>486.800000</td>\n      <td>0.000000</td>\n      <td>8.800000</td>\n      <td>12.600000</td>\n      <td>0.800000</td>\n    </tr>\n    <tr>\n      <th>E014086.24.5</th>\n      <td>1.400000</td>\n      <td>0.000000</td>\n      <td>1.400000</td>\n      <td>0.000000</td>\n      <td>13.800000</td>\n      <td>0.000000</td>\n      <td>11.000000</td>\n      <td>0.000000</td>\n      <td>0.200000</td>\n      <td>1.400000</td>\n      <td>...</td>\n      <td>0.000000</td>\n      <td>1.200000</td>\n      <td>0.000000</td>\n      <td>29.400000</td>\n      <td>0.000000</td>\n      <td>657.000000</td>\n      <td>0.000000</td>\n      <td>9.400000</td>\n      <td>19.600000</td>\n      <td>0.600000</td>\n    </tr>\n    <tr>\n      <th>E014086.26.4</th>\n      <td>0.200000</td>\n      <td>0.000000</td>\n      <td>2.000000</td>\n      <td>0.000000</td>\n      <td>15.600000</td>\n      <td>0.000000</td>\n      <td>10.200000</td>\n      <td>0.000000</td>\n      <td>0.200000</td>\n      <td>1.600000</td>\n      <td>...</td>\n      <td>0.000000</td>\n      <td>1.800000</td>\n      <td>0.000000</td>\n      <td>0.200000</td>\n      <td>0.000000</td>\n      <td>673.800000</td>\n      <td>0.000000</td>\n      <td>6.200000</td>\n      <td>22.000000</td>\n      <td>0.800000</td>\n    </tr>\n    <tr>\n      <th>E014086.28.5</th>\n      <td>0.400000</td>\n      <td>0.000000</td>\n      <td>2.000000</td>\n      <td>0.000000</td>\n      <td>17.200000</td>\n      <td>0.000000</td>\n      <td>10.200000</td>\n      <td>0.000000</td>\n      <td>0.200000</td>\n      <td>1.600000</td>\n      <td>...</td>\n      <td>0.000000</td>\n      <td>1.800000</td>\n      <td>0.000000</td>\n      <td>0.200000</td>\n      <td>0.000000</td>\n      <td>523.400000</td>\n      <td>0.000000</td>\n      <td>5.200000</td>\n      <td>26.400000</td>\n      <td>0.600000</td>\n    </tr>\n  </tbody>\n</table>\n<p>516 rows × 1440 columns</p>\n</div>"
     },
     "execution_count": 61,
     "metadata": {},
     "output_type": "execute_result"
    }
   ],
   "source": [
    "df = smooth_it_out(df=df, window_size=5)\n",
    "df"
   ],
   "metadata": {
    "collapsed": false,
    "ExecuteTime": {
     "end_time": "2023-08-15T14:24:21.687096402Z",
     "start_time": "2023-08-15T14:24:18.776627379Z"
    }
   }
  },
  {
   "cell_type": "code",
   "execution_count": 62,
   "metadata": {
    "ExecuteTime": {
     "end_time": "2023-08-15T14:24:22.049023234Z",
     "start_time": "2023-08-15T14:24:21.799179933Z"
    }
   },
   "outputs": [
    {
     "name": "stderr",
     "output_type": "stream",
     "text": [
      "/tmp/ipykernel_79223/2433063030.py:6: SettingWithCopyWarning: \n",
      "A value is trying to be set on a copy of a slice from a DataFrame.\n",
      "Try using .loc[row_indexer,col_indexer] = value instead\n",
      "\n",
      "See the caveats in the documentation: https://pandas.pydata.org/pandas-docs/stable/user_guide/indexing.html#returning-a-view-versus-a-copy\n",
      "  df[col] = (df[col] - _min_) / (_max_ - _min_)\n"
     ]
    },
    {
     "data": {
      "text/plain": "              189592   183857   4343580  198956   177319   505587   194104   \\\nE000823.1.8  0.000000 0.000000 0.085714 0.000000 0.000000 0.000000 0.000000   \nE000823.2.6  0.000000 0.055556 0.028571 0.000000 0.000000 0.007979 0.000000   \nE000823.4.0  0.000000 0.055556 0.000000 0.000000 0.000000 0.007979 0.000000   \nE000823.5.0  0.000000 0.111111 0.028571 0.000000 0.000000 0.007979 0.000000   \nE000823.5.7  0.002538 0.166667 0.028571 0.000000 0.151163 0.007979 0.330709   \n...               ...      ...      ...      ...      ...      ...      ...   \nE014086.22.5 0.015228 0.000000 0.228571 0.000000 0.186047 0.000000 0.314961   \nE014086.23.4 0.017766 0.000000 0.342857 0.000000 0.302326 0.000000 0.307087   \nE014086.24.5 0.017766 0.000000 0.200000 0.000000 0.802326 0.000000 0.433071   \nE014086.26.4 0.002538 0.000000 0.285714 0.000000 0.906977 0.000000 0.401575   \nE014086.28.5 0.005076 0.000000 0.285714 0.000000 1.000000 0.000000 0.401575   \n\n              193778   362389   2017729  ...  368462   356360   183438   \\\nE000823.1.8  0.000000 0.000000 0.000000  ... 0.007407 0.000000 0.000000   \nE000823.2.6  0.000000 0.048780 0.000000  ... 0.007407 0.000000 0.000000   \nE000823.4.0  0.000000 0.048780 0.000000  ... 0.007407 0.000000 0.000000   \nE000823.5.0  0.000000 0.048780 0.000000  ... 0.000000 0.000000 0.000000   \nE000823.5.7  0.000000 0.121951 0.076923  ... 0.022222 0.000000 0.181818   \n...               ...      ...      ...  ...      ...      ...      ...   \nE014086.22.5 0.000000 0.000000 0.307692  ... 0.000000 0.083333 0.000000   \nE014086.23.4 0.000000 0.024390 0.307692  ... 0.000000 0.055556 0.000000   \nE014086.24.5 0.000000 0.024390 0.538462  ... 0.000000 0.166667 0.000000   \nE014086.26.4 0.000000 0.024390 0.615385  ... 0.000000 0.250000 0.000000   \nE014086.28.5 0.000000 0.024390 0.615385  ... 0.000000 0.250000 0.000000   \n\n              365385   178849   580008   296945   267718   354850   317924   \nE000823.1.8  0.000678 0.000000 0.000000 0.000000 0.000000 0.043189 0.000000  \nE000823.2.6  0.000848 0.000000 0.000000 0.000000 0.000000 0.019934 0.000000  \nE000823.4.0  0.000763 0.000000 0.000000 0.000000 0.000000 0.013289 0.000000  \nE000823.5.0  0.000424 0.000000 0.000000 0.000000 0.000000 0.000000 0.000000  \nE000823.5.7  0.005852 0.000000 0.000000 0.000000 0.000000 0.013289 0.166667  \n...               ...      ...      ...      ...      ...      ...      ...  \nE014086.22.5 0.012382 0.000000 0.141374 0.000000 0.310606 0.289037 0.250000  \nE014086.23.4 0.012467 0.000000 0.173091 0.000000 0.333333 0.209302 0.333333  \nE014086.24.5 0.012467 0.000000 0.233608 0.000000 0.356061 0.325581 0.250000  \nE014086.26.4 0.000085 0.000000 0.239582 0.000000 0.234848 0.365449 0.333333  \nE014086.28.5 0.000085 0.000000 0.186104 0.000000 0.196970 0.438538 0.250000  \n\n[516 rows x 1440 columns]",
      "text/html": "<div>\n<style scoped>\n    .dataframe tbody tr th:only-of-type {\n        vertical-align: middle;\n    }\n\n    .dataframe tbody tr th {\n        vertical-align: top;\n    }\n\n    .dataframe thead th {\n        text-align: right;\n    }\n</style>\n<table border=\"1\" class=\"dataframe\">\n  <thead>\n    <tr style=\"text-align: right;\">\n      <th></th>\n      <th>189592</th>\n      <th>183857</th>\n      <th>4343580</th>\n      <th>198956</th>\n      <th>177319</th>\n      <th>505587</th>\n      <th>194104</th>\n      <th>193778</th>\n      <th>362389</th>\n      <th>2017729</th>\n      <th>...</th>\n      <th>368462</th>\n      <th>356360</th>\n      <th>183438</th>\n      <th>365385</th>\n      <th>178849</th>\n      <th>580008</th>\n      <th>296945</th>\n      <th>267718</th>\n      <th>354850</th>\n      <th>317924</th>\n    </tr>\n  </thead>\n  <tbody>\n    <tr>\n      <th>E000823.1.8</th>\n      <td>0.000000</td>\n      <td>0.000000</td>\n      <td>0.085714</td>\n      <td>0.000000</td>\n      <td>0.000000</td>\n      <td>0.000000</td>\n      <td>0.000000</td>\n      <td>0.000000</td>\n      <td>0.000000</td>\n      <td>0.000000</td>\n      <td>...</td>\n      <td>0.007407</td>\n      <td>0.000000</td>\n      <td>0.000000</td>\n      <td>0.000678</td>\n      <td>0.000000</td>\n      <td>0.000000</td>\n      <td>0.000000</td>\n      <td>0.000000</td>\n      <td>0.043189</td>\n      <td>0.000000</td>\n    </tr>\n    <tr>\n      <th>E000823.2.6</th>\n      <td>0.000000</td>\n      <td>0.055556</td>\n      <td>0.028571</td>\n      <td>0.000000</td>\n      <td>0.000000</td>\n      <td>0.007979</td>\n      <td>0.000000</td>\n      <td>0.000000</td>\n      <td>0.048780</td>\n      <td>0.000000</td>\n      <td>...</td>\n      <td>0.007407</td>\n      <td>0.000000</td>\n      <td>0.000000</td>\n      <td>0.000848</td>\n      <td>0.000000</td>\n      <td>0.000000</td>\n      <td>0.000000</td>\n      <td>0.000000</td>\n      <td>0.019934</td>\n      <td>0.000000</td>\n    </tr>\n    <tr>\n      <th>E000823.4.0</th>\n      <td>0.000000</td>\n      <td>0.055556</td>\n      <td>0.000000</td>\n      <td>0.000000</td>\n      <td>0.000000</td>\n      <td>0.007979</td>\n      <td>0.000000</td>\n      <td>0.000000</td>\n      <td>0.048780</td>\n      <td>0.000000</td>\n      <td>...</td>\n      <td>0.007407</td>\n      <td>0.000000</td>\n      <td>0.000000</td>\n      <td>0.000763</td>\n      <td>0.000000</td>\n      <td>0.000000</td>\n      <td>0.000000</td>\n      <td>0.000000</td>\n      <td>0.013289</td>\n      <td>0.000000</td>\n    </tr>\n    <tr>\n      <th>E000823.5.0</th>\n      <td>0.000000</td>\n      <td>0.111111</td>\n      <td>0.028571</td>\n      <td>0.000000</td>\n      <td>0.000000</td>\n      <td>0.007979</td>\n      <td>0.000000</td>\n      <td>0.000000</td>\n      <td>0.048780</td>\n      <td>0.000000</td>\n      <td>...</td>\n      <td>0.000000</td>\n      <td>0.000000</td>\n      <td>0.000000</td>\n      <td>0.000424</td>\n      <td>0.000000</td>\n      <td>0.000000</td>\n      <td>0.000000</td>\n      <td>0.000000</td>\n      <td>0.000000</td>\n      <td>0.000000</td>\n    </tr>\n    <tr>\n      <th>E000823.5.7</th>\n      <td>0.002538</td>\n      <td>0.166667</td>\n      <td>0.028571</td>\n      <td>0.000000</td>\n      <td>0.151163</td>\n      <td>0.007979</td>\n      <td>0.330709</td>\n      <td>0.000000</td>\n      <td>0.121951</td>\n      <td>0.076923</td>\n      <td>...</td>\n      <td>0.022222</td>\n      <td>0.000000</td>\n      <td>0.181818</td>\n      <td>0.005852</td>\n      <td>0.000000</td>\n      <td>0.000000</td>\n      <td>0.000000</td>\n      <td>0.000000</td>\n      <td>0.013289</td>\n      <td>0.166667</td>\n    </tr>\n    <tr>\n      <th>...</th>\n      <td>...</td>\n      <td>...</td>\n      <td>...</td>\n      <td>...</td>\n      <td>...</td>\n      <td>...</td>\n      <td>...</td>\n      <td>...</td>\n      <td>...</td>\n      <td>...</td>\n      <td>...</td>\n      <td>...</td>\n      <td>...</td>\n      <td>...</td>\n      <td>...</td>\n      <td>...</td>\n      <td>...</td>\n      <td>...</td>\n      <td>...</td>\n      <td>...</td>\n      <td>...</td>\n    </tr>\n    <tr>\n      <th>E014086.22.5</th>\n      <td>0.015228</td>\n      <td>0.000000</td>\n      <td>0.228571</td>\n      <td>0.000000</td>\n      <td>0.186047</td>\n      <td>0.000000</td>\n      <td>0.314961</td>\n      <td>0.000000</td>\n      <td>0.000000</td>\n      <td>0.307692</td>\n      <td>...</td>\n      <td>0.000000</td>\n      <td>0.083333</td>\n      <td>0.000000</td>\n      <td>0.012382</td>\n      <td>0.000000</td>\n      <td>0.141374</td>\n      <td>0.000000</td>\n      <td>0.310606</td>\n      <td>0.289037</td>\n      <td>0.250000</td>\n    </tr>\n    <tr>\n      <th>E014086.23.4</th>\n      <td>0.017766</td>\n      <td>0.000000</td>\n      <td>0.342857</td>\n      <td>0.000000</td>\n      <td>0.302326</td>\n      <td>0.000000</td>\n      <td>0.307087</td>\n      <td>0.000000</td>\n      <td>0.024390</td>\n      <td>0.307692</td>\n      <td>...</td>\n      <td>0.000000</td>\n      <td>0.055556</td>\n      <td>0.000000</td>\n      <td>0.012467</td>\n      <td>0.000000</td>\n      <td>0.173091</td>\n      <td>0.000000</td>\n      <td>0.333333</td>\n      <td>0.209302</td>\n      <td>0.333333</td>\n    </tr>\n    <tr>\n      <th>E014086.24.5</th>\n      <td>0.017766</td>\n      <td>0.000000</td>\n      <td>0.200000</td>\n      <td>0.000000</td>\n      <td>0.802326</td>\n      <td>0.000000</td>\n      <td>0.433071</td>\n      <td>0.000000</td>\n      <td>0.024390</td>\n      <td>0.538462</td>\n      <td>...</td>\n      <td>0.000000</td>\n      <td>0.166667</td>\n      <td>0.000000</td>\n      <td>0.012467</td>\n      <td>0.000000</td>\n      <td>0.233608</td>\n      <td>0.000000</td>\n      <td>0.356061</td>\n      <td>0.325581</td>\n      <td>0.250000</td>\n    </tr>\n    <tr>\n      <th>E014086.26.4</th>\n      <td>0.002538</td>\n      <td>0.000000</td>\n      <td>0.285714</td>\n      <td>0.000000</td>\n      <td>0.906977</td>\n      <td>0.000000</td>\n      <td>0.401575</td>\n      <td>0.000000</td>\n      <td>0.024390</td>\n      <td>0.615385</td>\n      <td>...</td>\n      <td>0.000000</td>\n      <td>0.250000</td>\n      <td>0.000000</td>\n      <td>0.000085</td>\n      <td>0.000000</td>\n      <td>0.239582</td>\n      <td>0.000000</td>\n      <td>0.234848</td>\n      <td>0.365449</td>\n      <td>0.333333</td>\n    </tr>\n    <tr>\n      <th>E014086.28.5</th>\n      <td>0.005076</td>\n      <td>0.000000</td>\n      <td>0.285714</td>\n      <td>0.000000</td>\n      <td>1.000000</td>\n      <td>0.000000</td>\n      <td>0.401575</td>\n      <td>0.000000</td>\n      <td>0.024390</td>\n      <td>0.615385</td>\n      <td>...</td>\n      <td>0.000000</td>\n      <td>0.250000</td>\n      <td>0.000000</td>\n      <td>0.000085</td>\n      <td>0.000000</td>\n      <td>0.186104</td>\n      <td>0.000000</td>\n      <td>0.196970</td>\n      <td>0.438538</td>\n      <td>0.250000</td>\n    </tr>\n  </tbody>\n</table>\n<p>516 rows × 1440 columns</p>\n</div>"
     },
     "execution_count": 62,
     "metadata": {},
     "output_type": "execute_result"
    }
   ],
   "source": [
    "df = feature_wise_scaling(df)\n",
    "df"
   ]
  },
  {
   "cell_type": "code",
   "execution_count": 63,
   "outputs": [
    {
     "data": {
      "text/plain": "         189592     183857     4343580    198956     177319     505587   \\\ncount 516.000000 516.000000 516.000000 516.000000 516.000000 516.000000   \nmean    0.073806   0.098514   0.182281   0.109496   0.083153   0.017138   \nstd     0.137929   0.126745   0.167185   0.174509   0.144020   0.099215   \nmin     0.000000   0.000000   0.000000   0.000000   0.000000   0.000000   \n25%     0.000000   0.000000   0.057143   0.000000   0.000000   0.000000   \n50%     0.010152   0.055556   0.142857   0.000000   0.023256   0.000000   \n75%     0.076142   0.166667   0.257143   0.200000   0.104651   0.007979   \nmax     1.000000   1.000000   1.000000   1.000000   1.000000   1.000000   \n\n         194104     193778     362389     2017729  ...    368462     356360   \\\ncount 516.000000 516.000000 516.000000 516.000000  ... 516.000000 516.000000   \nmean    0.134865   0.031603   0.190442   0.099583  ...   0.029113   0.100883   \nstd     0.218964   0.117428   0.196432   0.164082  ...   0.103716   0.138311   \nmin     0.000000   0.000000   0.000000   0.000000  ...   0.000000   0.000000   \n25%     0.000000   0.000000   0.024390   0.000000  ...   0.000000   0.000000   \n50%     0.015748   0.000000   0.146341   0.000000  ...   0.000000   0.055556   \n75%     0.204724   0.000000   0.292683   0.153846  ...   0.014815   0.138889   \nmax     1.000000   1.000000   1.000000   1.000000  ...   1.000000   1.000000   \n\n         183438     365385     178849     580008     296945     267718   \\\ncount 516.000000 516.000000 516.000000 516.000000 516.000000 516.000000   \nmean    0.054175   0.050919   0.077726   0.064489   0.050222   0.105092   \nstd     0.122820   0.135822   0.184834   0.130804   0.119696   0.172336   \nmin     0.000000   0.000000   0.000000   0.000000   0.000000   0.000000   \n25%     0.000000   0.000085   0.000000   0.000000   0.000000   0.000000   \n50%     0.000000   0.002460   0.000000   0.000213   0.000000   0.030303   \n75%     0.045455   0.042299   0.021277   0.081301   0.038005   0.138258   \nmax     1.000000   1.000000   1.000000   1.000000   1.000000   1.000000   \n\n         354850     317924   \ncount 516.000000 516.000000  \nmean    0.234110   0.103198  \nstd     0.214674   0.173783  \nmin     0.000000   0.000000  \n25%     0.053156   0.000000  \n50%     0.169435   0.000000  \n75%     0.372924   0.166667  \nmax     1.000000   1.000000  \n\n[8 rows x 1440 columns]",
      "text/html": "<div>\n<style scoped>\n    .dataframe tbody tr th:only-of-type {\n        vertical-align: middle;\n    }\n\n    .dataframe tbody tr th {\n        vertical-align: top;\n    }\n\n    .dataframe thead th {\n        text-align: right;\n    }\n</style>\n<table border=\"1\" class=\"dataframe\">\n  <thead>\n    <tr style=\"text-align: right;\">\n      <th></th>\n      <th>189592</th>\n      <th>183857</th>\n      <th>4343580</th>\n      <th>198956</th>\n      <th>177319</th>\n      <th>505587</th>\n      <th>194104</th>\n      <th>193778</th>\n      <th>362389</th>\n      <th>2017729</th>\n      <th>...</th>\n      <th>368462</th>\n      <th>356360</th>\n      <th>183438</th>\n      <th>365385</th>\n      <th>178849</th>\n      <th>580008</th>\n      <th>296945</th>\n      <th>267718</th>\n      <th>354850</th>\n      <th>317924</th>\n    </tr>\n  </thead>\n  <tbody>\n    <tr>\n      <th>count</th>\n      <td>516.000000</td>\n      <td>516.000000</td>\n      <td>516.000000</td>\n      <td>516.000000</td>\n      <td>516.000000</td>\n      <td>516.000000</td>\n      <td>516.000000</td>\n      <td>516.000000</td>\n      <td>516.000000</td>\n      <td>516.000000</td>\n      <td>...</td>\n      <td>516.000000</td>\n      <td>516.000000</td>\n      <td>516.000000</td>\n      <td>516.000000</td>\n      <td>516.000000</td>\n      <td>516.000000</td>\n      <td>516.000000</td>\n      <td>516.000000</td>\n      <td>516.000000</td>\n      <td>516.000000</td>\n    </tr>\n    <tr>\n      <th>mean</th>\n      <td>0.073806</td>\n      <td>0.098514</td>\n      <td>0.182281</td>\n      <td>0.109496</td>\n      <td>0.083153</td>\n      <td>0.017138</td>\n      <td>0.134865</td>\n      <td>0.031603</td>\n      <td>0.190442</td>\n      <td>0.099583</td>\n      <td>...</td>\n      <td>0.029113</td>\n      <td>0.100883</td>\n      <td>0.054175</td>\n      <td>0.050919</td>\n      <td>0.077726</td>\n      <td>0.064489</td>\n      <td>0.050222</td>\n      <td>0.105092</td>\n      <td>0.234110</td>\n      <td>0.103198</td>\n    </tr>\n    <tr>\n      <th>std</th>\n      <td>0.137929</td>\n      <td>0.126745</td>\n      <td>0.167185</td>\n      <td>0.174509</td>\n      <td>0.144020</td>\n      <td>0.099215</td>\n      <td>0.218964</td>\n      <td>0.117428</td>\n      <td>0.196432</td>\n      <td>0.164082</td>\n      <td>...</td>\n      <td>0.103716</td>\n      <td>0.138311</td>\n      <td>0.122820</td>\n      <td>0.135822</td>\n      <td>0.184834</td>\n      <td>0.130804</td>\n      <td>0.119696</td>\n      <td>0.172336</td>\n      <td>0.214674</td>\n      <td>0.173783</td>\n    </tr>\n    <tr>\n      <th>min</th>\n      <td>0.000000</td>\n      <td>0.000000</td>\n      <td>0.000000</td>\n      <td>0.000000</td>\n      <td>0.000000</td>\n      <td>0.000000</td>\n      <td>0.000000</td>\n      <td>0.000000</td>\n      <td>0.000000</td>\n      <td>0.000000</td>\n      <td>...</td>\n      <td>0.000000</td>\n      <td>0.000000</td>\n      <td>0.000000</td>\n      <td>0.000000</td>\n      <td>0.000000</td>\n      <td>0.000000</td>\n      <td>0.000000</td>\n      <td>0.000000</td>\n      <td>0.000000</td>\n      <td>0.000000</td>\n    </tr>\n    <tr>\n      <th>25%</th>\n      <td>0.000000</td>\n      <td>0.000000</td>\n      <td>0.057143</td>\n      <td>0.000000</td>\n      <td>0.000000</td>\n      <td>0.000000</td>\n      <td>0.000000</td>\n      <td>0.000000</td>\n      <td>0.024390</td>\n      <td>0.000000</td>\n      <td>...</td>\n      <td>0.000000</td>\n      <td>0.000000</td>\n      <td>0.000000</td>\n      <td>0.000085</td>\n      <td>0.000000</td>\n      <td>0.000000</td>\n      <td>0.000000</td>\n      <td>0.000000</td>\n      <td>0.053156</td>\n      <td>0.000000</td>\n    </tr>\n    <tr>\n      <th>50%</th>\n      <td>0.010152</td>\n      <td>0.055556</td>\n      <td>0.142857</td>\n      <td>0.000000</td>\n      <td>0.023256</td>\n      <td>0.000000</td>\n      <td>0.015748</td>\n      <td>0.000000</td>\n      <td>0.146341</td>\n      <td>0.000000</td>\n      <td>...</td>\n      <td>0.000000</td>\n      <td>0.055556</td>\n      <td>0.000000</td>\n      <td>0.002460</td>\n      <td>0.000000</td>\n      <td>0.000213</td>\n      <td>0.000000</td>\n      <td>0.030303</td>\n      <td>0.169435</td>\n      <td>0.000000</td>\n    </tr>\n    <tr>\n      <th>75%</th>\n      <td>0.076142</td>\n      <td>0.166667</td>\n      <td>0.257143</td>\n      <td>0.200000</td>\n      <td>0.104651</td>\n      <td>0.007979</td>\n      <td>0.204724</td>\n      <td>0.000000</td>\n      <td>0.292683</td>\n      <td>0.153846</td>\n      <td>...</td>\n      <td>0.014815</td>\n      <td>0.138889</td>\n      <td>0.045455</td>\n      <td>0.042299</td>\n      <td>0.021277</td>\n      <td>0.081301</td>\n      <td>0.038005</td>\n      <td>0.138258</td>\n      <td>0.372924</td>\n      <td>0.166667</td>\n    </tr>\n    <tr>\n      <th>max</th>\n      <td>1.000000</td>\n      <td>1.000000</td>\n      <td>1.000000</td>\n      <td>1.000000</td>\n      <td>1.000000</td>\n      <td>1.000000</td>\n      <td>1.000000</td>\n      <td>1.000000</td>\n      <td>1.000000</td>\n      <td>1.000000</td>\n      <td>...</td>\n      <td>1.000000</td>\n      <td>1.000000</td>\n      <td>1.000000</td>\n      <td>1.000000</td>\n      <td>1.000000</td>\n      <td>1.000000</td>\n      <td>1.000000</td>\n      <td>1.000000</td>\n      <td>1.000000</td>\n      <td>1.000000</td>\n    </tr>\n  </tbody>\n</table>\n<p>8 rows × 1440 columns</p>\n</div>"
     },
     "execution_count": 63,
     "metadata": {},
     "output_type": "execute_result"
    }
   ],
   "source": [
    "df.describe()"
   ],
   "metadata": {
    "collapsed": false,
    "ExecuteTime": {
     "end_time": "2023-08-15T14:24:23.329376253Z",
     "start_time": "2023-08-15T14:24:22.047828544Z"
    }
   }
  },
  {
   "cell_type": "code",
   "execution_count": 65,
   "metadata": {
    "ExecuteTime": {
     "end_time": "2023-08-15T14:25:30.420449674Z",
     "start_time": "2023-08-15T14:25:25.301244038Z"
    }
   },
   "outputs": [],
   "source": [
    "seq_length = 50\n",
    "cutoff = 411\n",
    "\n",
    "X_sequences, y_targets = preprocess(feats_df=df, seq_length=seq_length)"
   ]
  },
  {
   "cell_type": "code",
   "execution_count": 66,
   "metadata": {
    "ExecuteTime": {
     "end_time": "2023-08-15T14:25:30.465740680Z",
     "start_time": "2023-08-15T14:25:30.460993978Z"
    }
   },
   "outputs": [
    {
     "name": "stdout",
     "output_type": "stream",
     "text": [
      "Length of data: 516\n",
      "Total sequences: 466\n",
      "Train sequences: 411\n",
      "Test sequences: 55\n"
     ]
    }
   ],
   "source": [
    "X_sequences_train = X_sequences[:cutoff]\n",
    "y_targets_train = y_targets[:cutoff]\n",
    "\n",
    "X_sequences_test = X_sequences[cutoff:]\n",
    "y_targets_test = y_targets[cutoff:]\n",
    "\n",
    "print(f\"Length of data: {len(df)}\")\n",
    "print(f\"Total sequences: {len(X_sequences)}\")\n",
    "print(f\"Train sequences: {len(X_sequences_train)}\")\n",
    "print(f\"Test sequences: {len(X_sequences_test)}\")"
   ]
  },
  {
   "cell_type": "code",
   "execution_count": 67,
   "metadata": {
    "ExecuteTime": {
     "end_time": "2023-08-15T14:25:30.466101077Z",
     "start_time": "2023-08-15T14:25:30.461350978Z"
    }
   },
   "outputs": [],
   "source": [
    "n_feats = len(df.columns)"
   ]
  },
  {
   "cell_type": "code",
   "execution_count": 72,
   "metadata": {
    "ExecuteTime": {
     "end_time": "2023-08-15T14:26:20.489628986Z",
     "start_time": "2023-08-15T14:26:19.519871211Z"
    }
   },
   "outputs": [
    {
     "name": "stdout",
     "output_type": "stream",
     "text": [
      "WARNING:tensorflow:Layer lstm_2 will not use cuDNN kernels since it doesn't meet the criteria. It will use a generic GPU kernel as fallback when running on GPU.\n",
      "Model: \"sequential_2\"\n",
      "_________________________________________________________________\n",
      " Layer (type)                Output Shape              Param #   \n",
      "=================================================================\n",
      " lstm_2 (LSTM)               (None, 1024)              10096640  \n",
      "                                                                 \n",
      " dense_4 (Dense)             (None, 1024)              1049600   \n",
      "                                                                 \n",
      " dense_5 (Dense)             (None, 1440)              1476000   \n",
      "                                                                 \n",
      "=================================================================\n",
      "Total params: 12622240 (48.15 MB)\n",
      "Trainable params: 12622240 (48.15 MB)\n",
      "Non-trainable params: 0 (0.00 Byte)\n",
      "_________________________________________________________________\n"
     ]
    }
   ],
   "source": [
    "reg = 1e-12\n",
    "loss=mae_ignore_zeros\n",
    "\n",
    "model = Sequential()\n",
    "model.add(keras.Input(shape=(seq_length,n_feats)))\n",
    "model.add(keras.layers.LSTM(1024, return_sequences=False, activation='relu'))\n",
    "model.add(keras.layers.Dense(1024, activation=\"relu\", kernel_regularizer=l1_l2(reg)))\n",
    "model.add(keras.layers.Dense(n_feats, activation=\"relu\", kernel_regularizer=l1_l2(reg)))\n",
    "\n",
    "model.compile(optimizer=\"Adam\", loss=loss, metrics=[\"mae\", \"mape\"])\n",
    "\n",
    "model.summary()"
   ]
  },
  {
   "cell_type": "code",
   "execution_count": 73,
   "metadata": {
    "ExecuteTime": {
     "end_time": "2023-08-15T14:26:30.748246672Z",
     "start_time": "2023-08-15T14:26:21.076170641Z"
    }
   },
   "outputs": [
    {
     "name": "stdout",
     "output_type": "stream",
     "text": [
      "Epoch 1/10\n",
      "12/12 [==============================] - 2s 86ms/step - loss: 16.5061 - mae: 0.0853 - mape: 7369157.0000 - val_loss: 10.3418 - val_mae: 0.0740 - val_mape: 5930173.0000\n",
      "Epoch 2/10\n",
      "12/12 [==============================] - 1s 64ms/step - loss: 7.2114 - mae: 0.0779 - mape: 7098719.0000 - val_loss: 4.1097 - val_mae: 0.0717 - val_mape: 6552893.5000\n",
      "Epoch 3/10\n",
      "12/12 [==============================] - 1s 67ms/step - loss: 2.7208 - mae: 0.0753 - mape: 7226336.0000 - val_loss: 1.4260 - val_mae: 0.0711 - val_mape: 7226200.5000\n",
      "Epoch 4/10\n",
      "12/12 [==============================] - 1s 65ms/step - loss: 0.9183 - mae: 0.0734 - mape: 7414288.5000 - val_loss: 0.4765 - val_mae: 0.0709 - val_mape: 6733617.5000\n",
      "Epoch 5/10\n",
      "12/12 [==============================] - 1s 64ms/step - loss: 0.3259 - mae: 0.0720 - mape: 7068530.5000 - val_loss: 0.2067 - val_mae: 0.0711 - val_mape: 8857123.0000\n",
      "Epoch 6/10\n",
      "12/12 [==============================] - 1s 64ms/step - loss: 0.1689 - mae: 0.0704 - mape: 7356337.5000 - val_loss: 0.1461 - val_mae: 0.0703 - val_mape: 8617506.0000\n",
      "Epoch 7/10\n",
      "12/12 [==============================] - 1s 66ms/step - loss: 0.1354 - mae: 0.0688 - mape: 6813968.0000 - val_loss: 0.1356 - val_mae: 0.0704 - val_mape: 8896682.0000\n",
      "Epoch 8/10\n",
      "12/12 [==============================] - 1s 64ms/step - loss: 0.1279 - mae: 0.0681 - mape: 6973366.5000 - val_loss: 0.1333 - val_mae: 0.0702 - val_mape: 7122324.0000\n",
      "Epoch 9/10\n",
      "12/12 [==============================] - 1s 64ms/step - loss: 0.1256 - mae: 0.0677 - mape: 6800357.5000 - val_loss: 0.1350 - val_mae: 0.0730 - val_mape: 11366625.0000\n",
      "Epoch 10/10\n",
      "12/12 [==============================] - 1s 64ms/step - loss: 0.1228 - mae: 0.0663 - mape: 6789663.0000 - val_loss: 0.1360 - val_mae: 0.0742 - val_mape: 12966417.0000\n"
     ]
    },
    {
     "data": {
      "text/plain": "<keras.src.callbacks.History at 0x7f8509004490>"
     },
     "execution_count": 73,
     "metadata": {},
     "output_type": "execute_result"
    }
   ],
   "source": [
    "model.fit(x=X_sequences_train, y=y_targets_train, validation_split=0.1, epochs=10)"
   ]
  },
  {
   "cell_type": "code",
   "execution_count": null,
   "metadata": {
    "ExecuteTime": {
     "start_time": "2023-08-15T14:24:24.719724701Z"
    }
   },
   "outputs": [],
   "source": [
    "y_pred = model.predict(X_sequences_test)"
   ]
  },
  {
   "cell_type": "code",
   "execution_count": null,
   "metadata": {
    "ExecuteTime": {
     "start_time": "2023-08-15T14:24:24.719900556Z"
    }
   },
   "outputs": [],
   "source": [
    "y_test_df = pd.DataFrame(y_targets_test)\n",
    "y_pred_df = pd.DataFrame(y_pred)"
   ]
  },
  {
   "cell_type": "code",
   "execution_count": null,
   "metadata": {
    "ExecuteTime": {
     "start_time": "2023-08-15T14:24:24.719961413Z"
    }
   },
   "outputs": [],
   "source": [
    "y_test_df"
   ]
  },
  {
   "cell_type": "code",
   "execution_count": null,
   "metadata": {
    "ExecuteTime": {
     "end_time": "2023-08-15T14:24:24.720221008Z",
     "start_time": "2023-08-15T14:24:24.720010857Z"
    }
   },
   "outputs": [],
   "source": [
    "y_pred_df"
   ]
  },
  {
   "cell_type": "code",
   "execution_count": null,
   "metadata": {
    "ExecuteTime": {
     "start_time": "2023-08-15T14:24:24.720070060Z"
    }
   },
   "outputs": [],
   "source": [
    "target_taxa = 3\n",
    "\n",
    "sns.lineplot(y_test_df[target_taxa])\n",
    "plt.title(f\"True sequence for taxa_idx {target_taxa}\")\n",
    "plt.show()\n",
    "\n",
    "sns.lineplot(y_pred_df[target_taxa])\n",
    "plt.title(f\"Pred sequence for taxa_idx {target_taxa}\")\n",
    "plt.show()"
   ]
  },
  {
   "cell_type": "code",
   "execution_count": null,
   "outputs": [],
   "source": [
    "def calculate_errors(y_pred_df, y_test_df):\n",
    "    \n",
    "    errors_df = []\n",
    "    for col in y_pred_df.columns:\n",
    "        errors = abs((y_test_df[col] - y_pred_df[col] ) / (y_test_df[col] + 1e-10))\n",
    "        errors_df.append(errors)\n",
    "        \n",
    "    errors_df = pd.concat(errors_df, axis=1)\n",
    "    \n",
    "    return errors_df"
   ],
   "metadata": {
    "collapsed": false,
    "ExecuteTime": {
     "start_time": "2023-08-15T14:24:24.720115757Z"
    }
   }
  },
  {
   "cell_type": "code",
   "execution_count": null,
   "outputs": [],
   "source": [
    "errors_df = calculate_errors(y_pred_df, y_test_df)\n",
    "errors_df.describe()"
   ],
   "metadata": {
    "collapsed": false,
    "ExecuteTime": {
     "start_time": "2023-08-15T14:24:24.720184528Z"
    }
   }
  },
  {
   "cell_type": "code",
   "execution_count": null,
   "metadata": {
    "ExecuteTime": {
     "end_time": "2023-08-15T14:24:24.720750699Z",
     "start_time": "2023-08-15T14:24:24.720461066Z"
    }
   },
   "outputs": [],
   "source": []
  }
 ],
 "metadata": {
  "kernelspec": {
   "display_name": "Python 3 (ipykernel)",
   "language": "python",
   "name": "python3"
  },
  "language_info": {
   "codemirror_mode": {
    "name": "ipython",
    "version": 3
   },
   "file_extension": ".py",
   "mimetype": "text/x-python",
   "name": "python",
   "nbconvert_exporter": "python",
   "pygments_lexer": "ipython3",
   "version": "3.10.12"
  }
 },
 "nbformat": 4,
 "nbformat_minor": 1
}
