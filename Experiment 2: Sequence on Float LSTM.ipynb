{
 "cells": [
  {
   "cell_type": "code",
   "execution_count": 1,
   "id": "initial_id",
   "metadata": {
    "ExecuteTime": {
     "end_time": "2023-10-29T18:11:43.118658794Z",
     "start_time": "2023-10-29T18:11:40.922627521Z"
    }
   },
   "outputs": [
    {
     "name": "stderr",
     "output_type": "stream",
     "text": [
      "2023-10-29 19:11:41.621096: I tensorflow/core/platform/cpu_feature_guard.cc:182] This TensorFlow binary is optimized to use available CPU instructions in performance-critical operations.\n",
      "To enable the following instructions: AVX2 FMA, in other operations, rebuild TensorFlow with the appropriate compiler flags.\n",
      "2023-10-29 19:11:42.339581: W tensorflow/compiler/tf2tensorrt/utils/py_utils.cc:38] TF-TRT Warning: Could not find TensorRT\n"
     ]
    }
   ],
   "source": [
    "import shutil\n",
    "\n",
    "import matplotlib.pyplot as plt\n",
    "import numpy as np\n",
    "import pandas as pd\n",
    "\n",
    "from tensorflow.keras.models import Sequential\n",
    "from tensorflow.keras.layers import LSTM, Dense\n",
    "from tensorflow.keras.regularizers import l1_l2\n",
    "from tensorflow import keras\n",
    "import tensorflow as tf\n",
    "from tqdm import tqdm\n",
    "import warnings\n",
    "import os\n",
    "\n",
    "from functions import *\n",
    "\n",
    "pd.set_option('display.float_format', '{:.6f}'.format)"
   ]
  },
  {
   "cell_type": "markdown",
   "id": "294c4c266a26ceec",
   "metadata": {
    "collapsed": false
   },
   "source": [
    "## Data"
   ]
  },
  {
   "cell_type": "code",
   "execution_count": 2,
   "outputs": [],
   "source": [
    "max_zeros_pct = 0.3\n",
    "window_size = 3\n",
    "sequence_length = 10\n",
    "\n",
    "df = load_and_merge()\n",
    "df = remove_underpopulated_taxa(df, max_zeros_pct)\n",
    "df = standard_rolling_average(df, window_size)\n",
    "df = feature_wise_scaling(df)"
   ],
   "metadata": {
    "collapsed": false,
    "ExecuteTime": {
     "end_time": "2023-10-29T18:11:44.177937736Z",
     "start_time": "2023-10-29T18:11:43.120282755Z"
    }
   },
   "id": "4db24f3e8edc19c2"
  },
  {
   "cell_type": "code",
   "execution_count": 3,
   "id": "1b446229ada90de1",
   "metadata": {
    "collapsed": false,
    "ExecuteTime": {
     "end_time": "2023-10-29T18:11:44.194700417Z",
     "start_time": "2023-10-29T18:11:44.182282058Z"
    }
   },
   "outputs": [
    {
     "data": {
      "text/plain": "               364179   189384   865469   585419   564806   309391   682726  \\\nE000823.4.0  0.000160 0.100671 0.002424 0.000379 0.113394 0.000000 0.149880   \nE000823.5.0  0.000160 0.120805 0.000958 0.000632 0.117647 0.000000 0.161871   \nE000823.5.7  0.000180 0.053691 0.000620 0.058665 0.089668 0.000000 0.203837   \nE000823.6.7  0.000160 0.080537 0.159159 0.135397 0.062047 0.053140 0.206235   \nE000823.8.5  0.000220 0.053691 0.158651 0.136450 0.046781 0.053140 0.197842   \n...               ...      ...      ...      ...      ...      ...      ...   \nE014086.30.4 0.080890 0.503356 0.038563 0.005180 0.008506 0.015700 0.308153   \nE014086.32.4 0.120524 0.711409 0.077127 0.006233 0.005103 0.028986 0.130695   \nE014086.33.5 0.141802 0.906040 0.098213 0.005728 0.005238 0.033816 0.116307   \nE014086.34.4 0.127490 0.899329 0.063201 0.001558 0.003760 0.032609 0.049161   \nE014086.36.0 0.087755 0.570470 0.026555 0.000547 0.002462 0.015700 0.038369   \n\n              3154070   553611   262095  ...   193484   577170   359650  \\\nE000823.4.0  0.000327 0.018368 0.034098  ... 0.000000 0.122840 0.000000   \nE000823.5.0  0.000491 0.015911 0.038716  ... 0.000000 0.155183 0.000000   \nE000823.5.7  0.000981 0.016023 0.081743  ... 0.000000 0.115150 0.000000   \nE000823.6.7  0.000654 0.012226 0.098214  ... 0.038943 0.071113 0.000000   \nE000823.8.5  0.007195 0.010887 0.093596  ... 0.038943 0.083439 0.000000   \n...               ...      ...      ...  ...      ...      ...      ...   \nE014086.30.4 0.007032 0.000056 0.024708  ... 0.012517 0.288137 0.536697   \nE014086.32.4 0.011284 0.000000 0.014778  ... 0.033380 0.426464 0.653670   \nE014086.33.5 0.021913 0.000000 0.011469  ... 0.043115 0.507480 0.597477   \nE014086.34.4 0.028618 0.000000 0.006542  ... 0.040334 0.571745 0.582569   \nE014086.36.0 0.026656 0.000000 0.005003  ... 0.023644 0.465971 0.327982   \n\n               193233   196664   583117   354850  subject_id  sampling_day  \\\nE000823.4.0  0.040201 0.059699 0.010154 0.064039     E000823      0.072046   \nE000823.5.0  0.035804 0.054162 0.010779 0.029557     E000823      0.100865   \nE000823.5.7  0.034338 0.060045 0.009685 0.019704     E000823      0.121037   \nE000823.6.7  0.021566 0.035127 0.006092 0.000000     E000823      0.149856   \nE000823.8.5  0.050251 0.061602 0.037334 0.000000     E000823      0.201729   \n...               ...      ...      ...      ...         ...           ...   \nE014086.30.4 0.091290 0.127531 0.423113 0.068966     E014086      0.832853   \nE014086.32.4 0.142169 0.345042 0.622876 0.285714     E014086      0.890490   \nE014086.33.5 0.213358 0.537809 0.756436 0.507389     E014086      0.922190   \nE014086.34.4 0.241625 0.631597 0.749125 0.610837     E014086      0.948127   \nE014086.36.0 0.217127 0.488320 0.559266 0.443350     E014086      0.994236   \n\n              ind_time  \nE000823.4.0   0.072046  \nE000823.5.0   0.100865  \nE000823.5.7   0.121037  \nE000823.6.7   0.149856  \nE000823.8.5   0.201729  \n...                ...  \nE014086.30.4  0.832853  \nE014086.32.4  0.890490  \nE014086.33.5  0.922190  \nE014086.34.4  0.948127  \nE014086.36.0  0.994236  \n\n[519 rows x 82 columns]",
      "text/html": "<div>\n<style scoped>\n    .dataframe tbody tr th:only-of-type {\n        vertical-align: middle;\n    }\n\n    .dataframe tbody tr th {\n        vertical-align: top;\n    }\n\n    .dataframe thead th {\n        text-align: right;\n    }\n</style>\n<table border=\"1\" class=\"dataframe\">\n  <thead>\n    <tr style=\"text-align: right;\">\n      <th></th>\n      <th>364179</th>\n      <th>189384</th>\n      <th>865469</th>\n      <th>585419</th>\n      <th>564806</th>\n      <th>309391</th>\n      <th>682726</th>\n      <th>3154070</th>\n      <th>553611</th>\n      <th>262095</th>\n      <th>...</th>\n      <th>193484</th>\n      <th>577170</th>\n      <th>359650</th>\n      <th>193233</th>\n      <th>196664</th>\n      <th>583117</th>\n      <th>354850</th>\n      <th>subject_id</th>\n      <th>sampling_day</th>\n      <th>ind_time</th>\n    </tr>\n  </thead>\n  <tbody>\n    <tr>\n      <th>E000823.4.0</th>\n      <td>0.000160</td>\n      <td>0.100671</td>\n      <td>0.002424</td>\n      <td>0.000379</td>\n      <td>0.113394</td>\n      <td>0.000000</td>\n      <td>0.149880</td>\n      <td>0.000327</td>\n      <td>0.018368</td>\n      <td>0.034098</td>\n      <td>...</td>\n      <td>0.000000</td>\n      <td>0.122840</td>\n      <td>0.000000</td>\n      <td>0.040201</td>\n      <td>0.059699</td>\n      <td>0.010154</td>\n      <td>0.064039</td>\n      <td>E000823</td>\n      <td>0.072046</td>\n      <td>0.072046</td>\n    </tr>\n    <tr>\n      <th>E000823.5.0</th>\n      <td>0.000160</td>\n      <td>0.120805</td>\n      <td>0.000958</td>\n      <td>0.000632</td>\n      <td>0.117647</td>\n      <td>0.000000</td>\n      <td>0.161871</td>\n      <td>0.000491</td>\n      <td>0.015911</td>\n      <td>0.038716</td>\n      <td>...</td>\n      <td>0.000000</td>\n      <td>0.155183</td>\n      <td>0.000000</td>\n      <td>0.035804</td>\n      <td>0.054162</td>\n      <td>0.010779</td>\n      <td>0.029557</td>\n      <td>E000823</td>\n      <td>0.100865</td>\n      <td>0.100865</td>\n    </tr>\n    <tr>\n      <th>E000823.5.7</th>\n      <td>0.000180</td>\n      <td>0.053691</td>\n      <td>0.000620</td>\n      <td>0.058665</td>\n      <td>0.089668</td>\n      <td>0.000000</td>\n      <td>0.203837</td>\n      <td>0.000981</td>\n      <td>0.016023</td>\n      <td>0.081743</td>\n      <td>...</td>\n      <td>0.000000</td>\n      <td>0.115150</td>\n      <td>0.000000</td>\n      <td>0.034338</td>\n      <td>0.060045</td>\n      <td>0.009685</td>\n      <td>0.019704</td>\n      <td>E000823</td>\n      <td>0.121037</td>\n      <td>0.121037</td>\n    </tr>\n    <tr>\n      <th>E000823.6.7</th>\n      <td>0.000160</td>\n      <td>0.080537</td>\n      <td>0.159159</td>\n      <td>0.135397</td>\n      <td>0.062047</td>\n      <td>0.053140</td>\n      <td>0.206235</td>\n      <td>0.000654</td>\n      <td>0.012226</td>\n      <td>0.098214</td>\n      <td>...</td>\n      <td>0.038943</td>\n      <td>0.071113</td>\n      <td>0.000000</td>\n      <td>0.021566</td>\n      <td>0.035127</td>\n      <td>0.006092</td>\n      <td>0.000000</td>\n      <td>E000823</td>\n      <td>0.149856</td>\n      <td>0.149856</td>\n    </tr>\n    <tr>\n      <th>E000823.8.5</th>\n      <td>0.000220</td>\n      <td>0.053691</td>\n      <td>0.158651</td>\n      <td>0.136450</td>\n      <td>0.046781</td>\n      <td>0.053140</td>\n      <td>0.197842</td>\n      <td>0.007195</td>\n      <td>0.010887</td>\n      <td>0.093596</td>\n      <td>...</td>\n      <td>0.038943</td>\n      <td>0.083439</td>\n      <td>0.000000</td>\n      <td>0.050251</td>\n      <td>0.061602</td>\n      <td>0.037334</td>\n      <td>0.000000</td>\n      <td>E000823</td>\n      <td>0.201729</td>\n      <td>0.201729</td>\n    </tr>\n    <tr>\n      <th>...</th>\n      <td>...</td>\n      <td>...</td>\n      <td>...</td>\n      <td>...</td>\n      <td>...</td>\n      <td>...</td>\n      <td>...</td>\n      <td>...</td>\n      <td>...</td>\n      <td>...</td>\n      <td>...</td>\n      <td>...</td>\n      <td>...</td>\n      <td>...</td>\n      <td>...</td>\n      <td>...</td>\n      <td>...</td>\n      <td>...</td>\n      <td>...</td>\n      <td>...</td>\n      <td>...</td>\n    </tr>\n    <tr>\n      <th>E014086.30.4</th>\n      <td>0.080890</td>\n      <td>0.503356</td>\n      <td>0.038563</td>\n      <td>0.005180</td>\n      <td>0.008506</td>\n      <td>0.015700</td>\n      <td>0.308153</td>\n      <td>0.007032</td>\n      <td>0.000056</td>\n      <td>0.024708</td>\n      <td>...</td>\n      <td>0.012517</td>\n      <td>0.288137</td>\n      <td>0.536697</td>\n      <td>0.091290</td>\n      <td>0.127531</td>\n      <td>0.423113</td>\n      <td>0.068966</td>\n      <td>E014086</td>\n      <td>0.832853</td>\n      <td>0.832853</td>\n    </tr>\n    <tr>\n      <th>E014086.32.4</th>\n      <td>0.120524</td>\n      <td>0.711409</td>\n      <td>0.077127</td>\n      <td>0.006233</td>\n      <td>0.005103</td>\n      <td>0.028986</td>\n      <td>0.130695</td>\n      <td>0.011284</td>\n      <td>0.000000</td>\n      <td>0.014778</td>\n      <td>...</td>\n      <td>0.033380</td>\n      <td>0.426464</td>\n      <td>0.653670</td>\n      <td>0.142169</td>\n      <td>0.345042</td>\n      <td>0.622876</td>\n      <td>0.285714</td>\n      <td>E014086</td>\n      <td>0.890490</td>\n      <td>0.890490</td>\n    </tr>\n    <tr>\n      <th>E014086.33.5</th>\n      <td>0.141802</td>\n      <td>0.906040</td>\n      <td>0.098213</td>\n      <td>0.005728</td>\n      <td>0.005238</td>\n      <td>0.033816</td>\n      <td>0.116307</td>\n      <td>0.021913</td>\n      <td>0.000000</td>\n      <td>0.011469</td>\n      <td>...</td>\n      <td>0.043115</td>\n      <td>0.507480</td>\n      <td>0.597477</td>\n      <td>0.213358</td>\n      <td>0.537809</td>\n      <td>0.756436</td>\n      <td>0.507389</td>\n      <td>E014086</td>\n      <td>0.922190</td>\n      <td>0.922190</td>\n    </tr>\n    <tr>\n      <th>E014086.34.4</th>\n      <td>0.127490</td>\n      <td>0.899329</td>\n      <td>0.063201</td>\n      <td>0.001558</td>\n      <td>0.003760</td>\n      <td>0.032609</td>\n      <td>0.049161</td>\n      <td>0.028618</td>\n      <td>0.000000</td>\n      <td>0.006542</td>\n      <td>...</td>\n      <td>0.040334</td>\n      <td>0.571745</td>\n      <td>0.582569</td>\n      <td>0.241625</td>\n      <td>0.631597</td>\n      <td>0.749125</td>\n      <td>0.610837</td>\n      <td>E014086</td>\n      <td>0.948127</td>\n      <td>0.948127</td>\n    </tr>\n    <tr>\n      <th>E014086.36.0</th>\n      <td>0.087755</td>\n      <td>0.570470</td>\n      <td>0.026555</td>\n      <td>0.000547</td>\n      <td>0.002462</td>\n      <td>0.015700</td>\n      <td>0.038369</td>\n      <td>0.026656</td>\n      <td>0.000000</td>\n      <td>0.005003</td>\n      <td>...</td>\n      <td>0.023644</td>\n      <td>0.465971</td>\n      <td>0.327982</td>\n      <td>0.217127</td>\n      <td>0.488320</td>\n      <td>0.559266</td>\n      <td>0.443350</td>\n      <td>E014086</td>\n      <td>0.994236</td>\n      <td>0.994236</td>\n    </tr>\n  </tbody>\n</table>\n<p>519 rows × 82 columns</p>\n</div>"
     },
     "execution_count": 3,
     "metadata": {},
     "output_type": "execute_result"
    }
   ],
   "source": [
    "df"
   ]
  },
  {
   "cell_type": "markdown",
   "id": "974bb6ba8030b567",
   "metadata": {
    "collapsed": false
   },
   "source": [
    "## Features and targets"
   ]
  },
  {
   "cell_type": "code",
   "execution_count": 4,
   "id": "ed899c4c560f8131",
   "metadata": {
    "collapsed": false,
    "ExecuteTime": {
     "end_time": "2023-10-29T18:11:44.351404111Z",
     "start_time": "2023-10-29T18:11:44.195102120Z"
    }
   },
   "outputs": [
    {
     "name": "stdout",
     "output_type": "stream",
     "text": [
      "The test subjects are ['E001958' 'E003188' 'E004628']\n"
     ]
    }
   ],
   "source": [
    "number_test_sequences = 3\n",
    "\n",
    "train_feats, train_targets, test_feats, test_targets, test_subjects = feats_and_targets(df, seq_length=sequence_length, n_test_seq=number_test_sequences)"
   ]
  },
  {
   "cell_type": "code",
   "execution_count": 5,
   "outputs": [
    {
     "name": "stdout",
     "output_type": "stream",
     "text": [
      "270 270\n"
     ]
    }
   ],
   "source": [
    "print(len(train_feats), len(train_targets))"
   ],
   "metadata": {
    "collapsed": false,
    "ExecuteTime": {
     "end_time": "2023-10-29T18:11:44.351577610Z",
     "start_time": "2023-10-29T18:11:44.331964571Z"
    }
   },
   "id": "ead046cb32ded52d"
  },
  {
   "cell_type": "code",
   "execution_count": 6,
   "id": "61c9a253-bf72-4d68-9066-44179853bbba",
   "metadata": {
    "ExecuteTime": {
     "end_time": "2023-10-29T18:11:44.399681992Z",
     "start_time": "2023-10-29T18:11:44.335129155Z"
    }
   },
   "outputs": [],
   "source": [
    "train_targets = np.asarray(train_targets)\n",
    "train_targets = pd.DataFrame(train_targets)\n",
    "train_targets.columns = df.columns[:-1]"
   ]
  },
  {
   "cell_type": "code",
   "execution_count": 7,
   "id": "446bfc8b-86f7-4f13-8c56-a98c17f56264",
   "metadata": {
    "ExecuteTime": {
     "end_time": "2023-10-29T18:11:44.431941053Z",
     "start_time": "2023-10-29T18:11:44.383432073Z"
    }
   },
   "outputs": [
    {
     "data": {
      "text/plain": "      364179   189384   865469   585419   564806   309391   682726  3154070  \\\n0   0.000280 0.214765 0.197215 0.001137 0.006715 0.136473 0.058753 0.000818   \n1   0.124067 0.060403 0.011783 0.005896 0.003358 0.016908 0.160671 0.098774   \n2   0.001061 0.208054 0.004567 0.001306 0.016474 0.079710 0.061151 0.158790   \n3   0.000280 0.006711 0.024525 0.017351 0.007566 0.091787 0.019185 0.095830   \n4   0.023440 0.020134 0.008908 0.002653 0.011684 0.047101 0.028777 0.005724   \n..       ...      ...      ...      ...      ...      ...      ...      ...   \n265 0.120524 0.711409 0.077127 0.006233 0.005103 0.028986 0.130695 0.011284   \n266 0.000280 0.006711 0.158990 0.021226 0.009401 0.073671 0.035971 0.089616   \n267 0.166924 0.234899 0.017647 0.002190 0.034112 0.670290 0.050360 0.139330   \n268 0.025742 0.107383 0.005074 0.001642 0.003044 0.038647 0.011990 0.194930   \n269 0.000000 0.281879 0.073349 0.012213 0.041902 0.096618 0.326139 0.000327   \n\n      553611   262095  ...   997439   193484   577170   359650   193233  \\\n0   0.003126 0.006158  ... 0.001766 0.265647 0.133902 0.697248 0.016960   \n1   0.007983 0.003772  ... 0.043079 0.020862 0.038559 0.145642 0.239112   \n2   0.000000 0.111453  ... 0.000000 0.129346 0.182575 0.391055 0.289154   \n3   0.000558 0.001770  ... 0.010946 0.057024 0.108302 0.110092 0.409338   \n4   0.000335 0.007466  ... 0.002119 0.105702 0.022545 0.088303 0.088777   \n..       ...      ...  ...      ...      ...      ...      ...      ...   \n265 0.000000 0.014778  ... 0.002472 0.033380 0.426464 0.653670 0.142169   \n266 0.003796 0.004233  ... 0.014124 0.054242 0.129056 0.143349 0.471524   \n267 0.000223 0.108990  ... 0.071328 0.723227 0.067741 0.602064 0.193886   \n268 0.004187 0.002848  ... 0.019068 0.016690 0.068479 0.084862 0.220268   \n269 0.005360 0.032712  ... 0.025424 0.097357 0.524547 0.283257 0.022822   \n\n      196664   583117   354850  subject_id  sampling_day  \n0   0.045510 0.301300 0.049261    0.608069      0.608069  \n1   0.128742 0.005436 0.004926    0.792507      0.792507  \n2   0.246929 0.252312 0.211823    0.951009      0.951009  \n3   0.133068 0.100662 0.236453    0.582133      0.582133  \n4   0.118013 0.206823 0.024631    0.907781      0.907781  \n..       ...      ...      ...         ...           ...  \n265 0.345042 0.622876 0.285714    0.890490      0.890490  \n266 0.165946 0.124406 0.330049    0.616715      0.616715  \n267 0.139817 0.054424 0.049261    0.766571      0.766571  \n268 0.076484 0.008435 0.019704    0.858790      0.858790  \n269 0.047759 0.701293 0.024631    0.599424      0.599424  \n\n[270 rows x 81 columns]",
      "text/html": "<div>\n<style scoped>\n    .dataframe tbody tr th:only-of-type {\n        vertical-align: middle;\n    }\n\n    .dataframe tbody tr th {\n        vertical-align: top;\n    }\n\n    .dataframe thead th {\n        text-align: right;\n    }\n</style>\n<table border=\"1\" class=\"dataframe\">\n  <thead>\n    <tr style=\"text-align: right;\">\n      <th></th>\n      <th>364179</th>\n      <th>189384</th>\n      <th>865469</th>\n      <th>585419</th>\n      <th>564806</th>\n      <th>309391</th>\n      <th>682726</th>\n      <th>3154070</th>\n      <th>553611</th>\n      <th>262095</th>\n      <th>...</th>\n      <th>997439</th>\n      <th>193484</th>\n      <th>577170</th>\n      <th>359650</th>\n      <th>193233</th>\n      <th>196664</th>\n      <th>583117</th>\n      <th>354850</th>\n      <th>subject_id</th>\n      <th>sampling_day</th>\n    </tr>\n  </thead>\n  <tbody>\n    <tr>\n      <th>0</th>\n      <td>0.000280</td>\n      <td>0.214765</td>\n      <td>0.197215</td>\n      <td>0.001137</td>\n      <td>0.006715</td>\n      <td>0.136473</td>\n      <td>0.058753</td>\n      <td>0.000818</td>\n      <td>0.003126</td>\n      <td>0.006158</td>\n      <td>...</td>\n      <td>0.001766</td>\n      <td>0.265647</td>\n      <td>0.133902</td>\n      <td>0.697248</td>\n      <td>0.016960</td>\n      <td>0.045510</td>\n      <td>0.301300</td>\n      <td>0.049261</td>\n      <td>0.608069</td>\n      <td>0.608069</td>\n    </tr>\n    <tr>\n      <th>1</th>\n      <td>0.124067</td>\n      <td>0.060403</td>\n      <td>0.011783</td>\n      <td>0.005896</td>\n      <td>0.003358</td>\n      <td>0.016908</td>\n      <td>0.160671</td>\n      <td>0.098774</td>\n      <td>0.007983</td>\n      <td>0.003772</td>\n      <td>...</td>\n      <td>0.043079</td>\n      <td>0.020862</td>\n      <td>0.038559</td>\n      <td>0.145642</td>\n      <td>0.239112</td>\n      <td>0.128742</td>\n      <td>0.005436</td>\n      <td>0.004926</td>\n      <td>0.792507</td>\n      <td>0.792507</td>\n    </tr>\n    <tr>\n      <th>2</th>\n      <td>0.001061</td>\n      <td>0.208054</td>\n      <td>0.004567</td>\n      <td>0.001306</td>\n      <td>0.016474</td>\n      <td>0.079710</td>\n      <td>0.061151</td>\n      <td>0.158790</td>\n      <td>0.000000</td>\n      <td>0.111453</td>\n      <td>...</td>\n      <td>0.000000</td>\n      <td>0.129346</td>\n      <td>0.182575</td>\n      <td>0.391055</td>\n      <td>0.289154</td>\n      <td>0.246929</td>\n      <td>0.252312</td>\n      <td>0.211823</td>\n      <td>0.951009</td>\n      <td>0.951009</td>\n    </tr>\n    <tr>\n      <th>3</th>\n      <td>0.000280</td>\n      <td>0.006711</td>\n      <td>0.024525</td>\n      <td>0.017351</td>\n      <td>0.007566</td>\n      <td>0.091787</td>\n      <td>0.019185</td>\n      <td>0.095830</td>\n      <td>0.000558</td>\n      <td>0.001770</td>\n      <td>...</td>\n      <td>0.010946</td>\n      <td>0.057024</td>\n      <td>0.108302</td>\n      <td>0.110092</td>\n      <td>0.409338</td>\n      <td>0.133068</td>\n      <td>0.100662</td>\n      <td>0.236453</td>\n      <td>0.582133</td>\n      <td>0.582133</td>\n    </tr>\n    <tr>\n      <th>4</th>\n      <td>0.023440</td>\n      <td>0.020134</td>\n      <td>0.008908</td>\n      <td>0.002653</td>\n      <td>0.011684</td>\n      <td>0.047101</td>\n      <td>0.028777</td>\n      <td>0.005724</td>\n      <td>0.000335</td>\n      <td>0.007466</td>\n      <td>...</td>\n      <td>0.002119</td>\n      <td>0.105702</td>\n      <td>0.022545</td>\n      <td>0.088303</td>\n      <td>0.088777</td>\n      <td>0.118013</td>\n      <td>0.206823</td>\n      <td>0.024631</td>\n      <td>0.907781</td>\n      <td>0.907781</td>\n    </tr>\n    <tr>\n      <th>...</th>\n      <td>...</td>\n      <td>...</td>\n      <td>...</td>\n      <td>...</td>\n      <td>...</td>\n      <td>...</td>\n      <td>...</td>\n      <td>...</td>\n      <td>...</td>\n      <td>...</td>\n      <td>...</td>\n      <td>...</td>\n      <td>...</td>\n      <td>...</td>\n      <td>...</td>\n      <td>...</td>\n      <td>...</td>\n      <td>...</td>\n      <td>...</td>\n      <td>...</td>\n      <td>...</td>\n    </tr>\n    <tr>\n      <th>265</th>\n      <td>0.120524</td>\n      <td>0.711409</td>\n      <td>0.077127</td>\n      <td>0.006233</td>\n      <td>0.005103</td>\n      <td>0.028986</td>\n      <td>0.130695</td>\n      <td>0.011284</td>\n      <td>0.000000</td>\n      <td>0.014778</td>\n      <td>...</td>\n      <td>0.002472</td>\n      <td>0.033380</td>\n      <td>0.426464</td>\n      <td>0.653670</td>\n      <td>0.142169</td>\n      <td>0.345042</td>\n      <td>0.622876</td>\n      <td>0.285714</td>\n      <td>0.890490</td>\n      <td>0.890490</td>\n    </tr>\n    <tr>\n      <th>266</th>\n      <td>0.000280</td>\n      <td>0.006711</td>\n      <td>0.158990</td>\n      <td>0.021226</td>\n      <td>0.009401</td>\n      <td>0.073671</td>\n      <td>0.035971</td>\n      <td>0.089616</td>\n      <td>0.003796</td>\n      <td>0.004233</td>\n      <td>...</td>\n      <td>0.014124</td>\n      <td>0.054242</td>\n      <td>0.129056</td>\n      <td>0.143349</td>\n      <td>0.471524</td>\n      <td>0.165946</td>\n      <td>0.124406</td>\n      <td>0.330049</td>\n      <td>0.616715</td>\n      <td>0.616715</td>\n    </tr>\n    <tr>\n      <th>267</th>\n      <td>0.166924</td>\n      <td>0.234899</td>\n      <td>0.017647</td>\n      <td>0.002190</td>\n      <td>0.034112</td>\n      <td>0.670290</td>\n      <td>0.050360</td>\n      <td>0.139330</td>\n      <td>0.000223</td>\n      <td>0.108990</td>\n      <td>...</td>\n      <td>0.071328</td>\n      <td>0.723227</td>\n      <td>0.067741</td>\n      <td>0.602064</td>\n      <td>0.193886</td>\n      <td>0.139817</td>\n      <td>0.054424</td>\n      <td>0.049261</td>\n      <td>0.766571</td>\n      <td>0.766571</td>\n    </tr>\n    <tr>\n      <th>268</th>\n      <td>0.025742</td>\n      <td>0.107383</td>\n      <td>0.005074</td>\n      <td>0.001642</td>\n      <td>0.003044</td>\n      <td>0.038647</td>\n      <td>0.011990</td>\n      <td>0.194930</td>\n      <td>0.004187</td>\n      <td>0.002848</td>\n      <td>...</td>\n      <td>0.019068</td>\n      <td>0.016690</td>\n      <td>0.068479</td>\n      <td>0.084862</td>\n      <td>0.220268</td>\n      <td>0.076484</td>\n      <td>0.008435</td>\n      <td>0.019704</td>\n      <td>0.858790</td>\n      <td>0.858790</td>\n    </tr>\n    <tr>\n      <th>269</th>\n      <td>0.000000</td>\n      <td>0.281879</td>\n      <td>0.073349</td>\n      <td>0.012213</td>\n      <td>0.041902</td>\n      <td>0.096618</td>\n      <td>0.326139</td>\n      <td>0.000327</td>\n      <td>0.005360</td>\n      <td>0.032712</td>\n      <td>...</td>\n      <td>0.025424</td>\n      <td>0.097357</td>\n      <td>0.524547</td>\n      <td>0.283257</td>\n      <td>0.022822</td>\n      <td>0.047759</td>\n      <td>0.701293</td>\n      <td>0.024631</td>\n      <td>0.599424</td>\n      <td>0.599424</td>\n    </tr>\n  </tbody>\n</table>\n<p>270 rows × 81 columns</p>\n</div>"
     },
     "execution_count": 7,
     "metadata": {},
     "output_type": "execute_result"
    }
   ],
   "source": [
    "train_targets"
   ]
  },
  {
   "cell_type": "markdown",
   "id": "437c0946b21f00c1",
   "metadata": {
    "collapsed": false
   },
   "source": [
    "## The model"
   ]
  },
  {
   "cell_type": "code",
   "execution_count": 8,
   "id": "ee6ca2169ff91d9c",
   "metadata": {
    "collapsed": false,
    "ExecuteTime": {
     "end_time": "2023-10-29T18:11:44.482952951Z",
     "start_time": "2023-10-29T18:11:44.431268788Z"
    }
   },
   "outputs": [],
   "source": [
    "def fetch_model(seq_length):\n",
    "\n",
    "    reg = 1e-8\n",
    "    \n",
    "    n_feats = len(df.columns) - 1\n",
    "    \n",
    "    model = Sequential()\n",
    "    model.add(keras.Input(shape=(seq_length, n_feats)))\n",
    "    model.add(keras.layers.LSTM(1024, return_sequences=False, activation='relu'))\n",
    "    model.add(keras.layers.Dense(512, activation=\"relu\", kernel_regularizer=l1_l2(reg)))\n",
    "    model.add(keras.layers.Dense(128, activation=\"relu\", kernel_regularizer=l1_l2(reg)))\n",
    "    model.add(keras.layers.Dense(1, activation=\"relu\"))\n",
    "    \n",
    "    model.compile(optimizer=\"Adam\", loss=loss, metrics=[\"mae\", \"mape\"])\n",
    "    \n",
    "    return model"
   ]
  },
  {
   "cell_type": "code",
   "execution_count": 9,
   "id": "7a5fe70eba18834",
   "metadata": {
    "collapsed": false,
    "ExecuteTime": {
     "end_time": "2023-10-29T18:11:44.551482864Z",
     "start_time": "2023-10-29T18:11:44.468155488Z"
    }
   },
   "outputs": [],
   "source": [
    "def compile_model(model, loss):\n",
    "    model.compile(optimizer=\"Adam\", loss=loss, metrics=[\"mae\", \"mape\"])\n",
    "    return model"
   ]
  },
  {
   "cell_type": "code",
   "execution_count": 10,
   "id": "eea17a420926f68e",
   "metadata": {
    "collapsed": false,
    "ExecuteTime": {
     "end_time": "2023-10-29T18:11:44.553949814Z",
     "start_time": "2023-10-29T18:11:44.508411781Z"
    }
   },
   "outputs": [],
   "source": [
    "#model = fetch_model()\n",
    "#\n",
    "#model.summary()\n",
    "#\n",
    "#model.save(\"/home/nate/temp/test_model_save.model\")"
   ]
  },
  {
   "cell_type": "markdown",
   "id": "65e549919b86085a",
   "metadata": {
    "ExecuteTime": {
     "end_time": "2023-10-09T19:27:48.977486146Z",
     "start_time": "2023-10-09T19:27:48.705630534Z"
    },
    "collapsed": false
   },
   "source": [
    "## Individual model testbench"
   ]
  },
  {
   "cell_type": "code",
   "execution_count": 11,
   "id": "6a26bb40cb8973ab",
   "metadata": {
    "collapsed": false,
    "ExecuteTime": {
     "end_time": "2023-10-29T18:11:44.769617643Z",
     "start_time": "2023-10-29T18:11:44.552598892Z"
    }
   },
   "outputs": [
    {
     "name": "stderr",
     "output_type": "stream",
     "text": [
      "2023-10-29 19:11:44.615461: I tensorflow/compiler/xla/stream_executor/cuda/cuda_gpu_executor.cc:995] successful NUMA node read from SysFS had negative value (-1), but there must be at least one NUMA node, so returning NUMA node zero. See more at https://github.com/torvalds/linux/blob/v6.0/Documentation/ABI/testing/sysfs-bus-pci#L344-L355\n",
      "2023-10-29 19:11:44.631493: I tensorflow/compiler/xla/stream_executor/cuda/cuda_gpu_executor.cc:995] successful NUMA node read from SysFS had negative value (-1), but there must be at least one NUMA node, so returning NUMA node zero. See more at https://github.com/torvalds/linux/blob/v6.0/Documentation/ABI/testing/sysfs-bus-pci#L344-L355\n",
      "2023-10-29 19:11:44.631755: I tensorflow/compiler/xla/stream_executor/cuda/cuda_gpu_executor.cc:995] successful NUMA node read from SysFS had negative value (-1), but there must be at least one NUMA node, so returning NUMA node zero. See more at https://github.com/torvalds/linux/blob/v6.0/Documentation/ABI/testing/sysfs-bus-pci#L344-L355\n",
      "2023-10-29 19:11:44.638245: I tensorflow/compiler/xla/stream_executor/cuda/cuda_gpu_executor.cc:995] successful NUMA node read from SysFS had negative value (-1), but there must be at least one NUMA node, so returning NUMA node zero. See more at https://github.com/torvalds/linux/blob/v6.0/Documentation/ABI/testing/sysfs-bus-pci#L344-L355\n",
      "2023-10-29 19:11:44.638504: I tensorflow/compiler/xla/stream_executor/cuda/cuda_gpu_executor.cc:995] successful NUMA node read from SysFS had negative value (-1), but there must be at least one NUMA node, so returning NUMA node zero. See more at https://github.com/torvalds/linux/blob/v6.0/Documentation/ABI/testing/sysfs-bus-pci#L344-L355\n",
      "2023-10-29 19:11:44.638664: I tensorflow/compiler/xla/stream_executor/cuda/cuda_gpu_executor.cc:995] successful NUMA node read from SysFS had negative value (-1), but there must be at least one NUMA node, so returning NUMA node zero. See more at https://github.com/torvalds/linux/blob/v6.0/Documentation/ABI/testing/sysfs-bus-pci#L344-L355\n",
      "2023-10-29 19:11:44.709190: I tensorflow/compiler/xla/stream_executor/cuda/cuda_gpu_executor.cc:995] successful NUMA node read from SysFS had negative value (-1), but there must be at least one NUMA node, so returning NUMA node zero. See more at https://github.com/torvalds/linux/blob/v6.0/Documentation/ABI/testing/sysfs-bus-pci#L344-L355\n",
      "2023-10-29 19:11:44.709410: I tensorflow/compiler/xla/stream_executor/cuda/cuda_gpu_executor.cc:995] successful NUMA node read from SysFS had negative value (-1), but there must be at least one NUMA node, so returning NUMA node zero. See more at https://github.com/torvalds/linux/blob/v6.0/Documentation/ABI/testing/sysfs-bus-pci#L344-L355\n",
      "2023-10-29 19:11:44.709577: I tensorflow/compiler/xla/stream_executor/cuda/cuda_gpu_executor.cc:995] successful NUMA node read from SysFS had negative value (-1), but there must be at least one NUMA node, so returning NUMA node zero. See more at https://github.com/torvalds/linux/blob/v6.0/Documentation/ABI/testing/sysfs-bus-pci#L344-L355\n",
      "2023-10-29 19:11:44.709800: I tensorflow/core/common_runtime/gpu/gpu_device.cc:1639] Created device /job:localhost/replica:0/task:0/device:GPU:0 with 3752 MB memory:  -> device: 0, name: NVIDIA GeForce RTX 3060 Ti, pci bus id: 0000:61:00.0, compute capability: 8.6\n"
     ]
    },
    {
     "data": {
      "text/plain": "<tf.Tensor: shape=(), dtype=float64, numpy=nan>"
     },
     "execution_count": 11,
     "metadata": {},
     "output_type": "execute_result"
    }
   ],
   "source": [
    "y_true = tf.constant([0])\n",
    "y_pred = tf.constant([1])\n",
    "\n",
    "loss = mae_ignore_zeros(false_positives_penalty_factor=0.3)\n",
    "loss.call(y_true, y_pred)"
   ]
  },
  {
   "cell_type": "code",
   "execution_count": 12,
   "id": "d026748b223845fa",
   "metadata": {
    "collapsed": false,
    "ExecuteTime": {
     "end_time": "2023-10-29T18:11:44.819525416Z",
     "start_time": "2023-10-29T18:11:44.768681467Z"
    }
   },
   "outputs": [],
   "source": [
    "target_taxa = 364179\n",
    "\n",
    "plot=False\n",
    "\n",
    "if plot is True:\n",
    "    plot_a_taxa_sequence(train_targets[target_taxa], title=f\"Train sequence for taxa_idx {target_taxa}\", color=\"blue\")"
   ]
  },
  {
   "cell_type": "code",
   "execution_count": 13,
   "id": "b8adb4c46ea0a349",
   "metadata": {
    "collapsed": false,
    "ExecuteTime": {
     "end_time": "2023-10-29T18:11:49.603120386Z",
     "start_time": "2023-10-29T18:11:44.809300658Z"
    }
   },
   "outputs": [
    {
     "name": "stdout",
     "output_type": "stream",
     "text": [
      "WARNING:tensorflow:Layer lstm will not use cuDNN kernels since it doesn't meet the criteria. It will use a generic GPU kernel as fallback when running on GPU.\n",
      "Epoch 1/15\n"
     ]
    },
    {
     "name": "stderr",
     "output_type": "stream",
     "text": [
      "2023-10-29 19:11:46.830000: I tensorflow/compiler/xla/stream_executor/cuda/cuda_blas.cc:606] TensorFloat-32 will be used for the matrix multiplication. This will only be logged once.\n",
      "2023-10-29 19:11:46.859335: I tensorflow/compiler/xla/service/service.cc:168] XLA service 0x7fec8c008d90 initialized for platform CUDA (this does not guarantee that XLA will be used). Devices:\n",
      "2023-10-29 19:11:46.859366: I tensorflow/compiler/xla/service/service.cc:176]   StreamExecutor device (0): NVIDIA GeForce RTX 3060 Ti, Compute Capability 8.6\n",
      "2023-10-29 19:11:46.864444: I tensorflow/compiler/mlir/tensorflow/utils/dump_mlir_util.cc:255] disabling MLIR crash reproducer, set env var `MLIR_CRASH_REPRODUCER_DIRECTORY` to enable.\n",
      "2023-10-29 19:11:46.877776: I tensorflow/compiler/xla/stream_executor/cuda/cuda_dnn.cc:432] Loaded cuDNN version 8600\n",
      "2023-10-29 19:11:46.979724: I ./tensorflow/compiler/jit/device_compiler.h:186] Compiled cluster using XLA!  This line is logged at most once for the lifetime of the process.\n"
     ]
    },
    {
     "name": "stdout",
     "output_type": "stream",
     "text": [
      "8/8 [==============================] - 2s 39ms/step - loss: 7.6874 - mae: 0.0272 - mape: 139753.6875 - val_loss: 6.2360 - val_mae: 0.0396 - val_mape: 85.7143\n",
      "Epoch 2/15\n",
      "8/8 [==============================] - 0s 14ms/step - loss: 5.2755 - mae: 0.0264 - mape: 94.9219 - val_loss: 4.1916 - val_mae: 0.0396 - val_mape: 85.7143\n",
      "Epoch 3/15\n",
      "8/8 [==============================] - 0s 13ms/step - loss: 3.4991 - mae: 0.0264 - mape: 94.9219 - val_loss: 2.7385 - val_mae: 0.0396 - val_mape: 85.7143\n",
      "Epoch 4/15\n",
      "8/8 [==============================] - 0s 15ms/step - loss: 2.2607 - mae: 0.0264 - mape: 94.9219 - val_loss: 1.7516 - val_mae: 0.0396 - val_mape: 85.7143\n",
      "Epoch 5/15\n",
      "8/8 [==============================] - 0s 14ms/step - loss: 1.4326 - mae: 0.0264 - mape: 94.9219 - val_loss: 1.1059 - val_mae: 0.0396 - val_mape: 85.7143\n",
      "Epoch 6/15\n",
      "8/8 [==============================] - 0s 17ms/step - loss: 0.8977 - mae: 0.0264 - mape: 94.9219 - val_loss: 0.6960 - val_mae: 0.0396 - val_mape: 85.7143\n",
      "Epoch 7/15\n",
      "8/8 [==============================] - 0s 15ms/step - loss: 0.5616 - mae: 0.0264 - mape: 94.9219 - val_loss: 0.4421 - val_mae: 0.0396 - val_mape: 85.7143\n",
      "Epoch 8/15\n",
      "8/8 [==============================] - 0s 14ms/step - loss: 0.3559 - mae: 0.0273 - mape: 1021.0419 - val_loss: 0.2918 - val_mae: 0.0396 - val_mape: 85.7143\n",
      "Epoch 9/15\n",
      "8/8 [==============================] - 0s 14ms/step - loss: 0.2463 - mae: 0.0264 - mape: 94.9219 - val_loss: 0.2260 - val_mae: 0.0396 - val_mape: 85.7143\n",
      "Epoch 10/15\n",
      "8/8 [==============================] - 0s 14ms/step - loss: 0.1929 - mae: 0.0264 - mape: 94.9219 - val_loss: 0.1825 - val_mae: 0.0396 - val_mape: 85.7143\n",
      "Epoch 11/15\n",
      "8/8 [==============================] - 0s 14ms/step - loss: 0.1533 - mae: 0.0264 - mape: 94.9219 - val_loss: 0.1475 - val_mae: 0.0396 - val_mape: 85.7143\n",
      "Epoch 12/15\n",
      "8/8 [==============================] - 0s 15ms/step - loss: 0.1218 - mae: 0.0264 - mape: 94.9219 - val_loss: 0.1202 - val_mae: 0.0396 - val_mape: 85.7143\n",
      "Epoch 13/15\n",
      "8/8 [==============================] - 0s 13ms/step - loss: 0.0976 - mae: 0.0264 - mape: 94.9219 - val_loss: 0.0998 - val_mae: 0.0396 - val_mape: 85.7143\n",
      "Epoch 14/15\n",
      "8/8 [==============================] - 0s 14ms/step - loss: 0.0797 - mae: 0.0264 - mape: 94.9219 - val_loss: 0.0848 - val_mae: 0.0396 - val_mape: 85.7143\n",
      "Epoch 15/15\n",
      "8/8 [==============================] - 0s 14ms/step - loss: 0.0666 - mae: 0.0264 - mape: 94.9219 - val_loss: 0.0739 - val_mae: 0.0396 - val_mape: 85.7143\n"
     ]
    },
    {
     "data": {
      "text/plain": "<keras.src.callbacks.History at 0x7ff1b9bccd60>"
     },
     "execution_count": 13,
     "metadata": {},
     "output_type": "execute_result"
    }
   ],
   "source": [
    "n_epochs = 15\n",
    "\n",
    "#loss = mae_ignore_zeros(false_positives_penalty_factor=0.3)\n",
    "loss = \"mae\"\n",
    "\n",
    "model = fetch_model(seq_length=sequence_length)\n",
    "model = compile_model(model, loss)\n",
    "\n",
    "model.fit(x=train_feats, y=train_targets[target_taxa], validation_split=0.05, epochs=n_epochs, verbose=1)"
   ]
  },
  {
   "cell_type": "code",
   "execution_count": 14,
   "outputs": [
    {
     "data": {
      "text/plain": "array(['E001958', 'E003188', 'E004628'], dtype=object)"
     },
     "execution_count": 14,
     "metadata": {},
     "output_type": "execute_result"
    }
   ],
   "source": [
    "test_subjects"
   ],
   "metadata": {
    "collapsed": false,
    "ExecuteTime": {
     "end_time": "2023-10-29T18:11:49.647581076Z",
     "start_time": "2023-10-29T18:11:49.599480721Z"
    }
   },
   "id": "bde25a4983e349d"
  },
  {
   "cell_type": "code",
   "execution_count": 15,
   "outputs": [],
   "source": [
    "target_subject_idx = 0\n",
    "target_subject = test_subjects[target_subject_idx]\n",
    "\n",
    "test_subject_feats = np.asarray(test_feats[target_subject])\n",
    "\n",
    "test_subject_targets = pd.concat(test_targets[target_subject]).T\n",
    "test_subject_targets.columns = df.columns[:-1]"
   ],
   "metadata": {
    "collapsed": false,
    "ExecuteTime": {
     "end_time": "2023-10-29T18:11:49.661352643Z",
     "start_time": "2023-10-29T18:11:49.641528643Z"
    }
   },
   "id": "5606e6f40667d01"
  },
  {
   "cell_type": "code",
   "execution_count": 16,
   "id": "cd8f822332e0ce78",
   "metadata": {
    "collapsed": false,
    "ExecuteTime": {
     "end_time": "2023-10-29T18:11:50.315147032Z",
     "start_time": "2023-10-29T18:11:49.654338145Z"
    }
   },
   "outputs": [
    {
     "name": "stdout",
     "output_type": "stream",
     "text": [
      "1/1 [==============================] - 0s 129ms/step\n"
     ]
    },
    {
     "data": {
      "text/plain": "<Figure size 1000x500 with 1 Axes>",
      "image/png": "[encoded data removed]"
     },
     "metadata": {},
     "output_type": "display_data"
    },
    {
     "data": {
      "text/plain": "<Figure size 1000x500 with 1 Axes>",
      "image/png": "[encoded data removed]"
     },
     "metadata": {},
     "output_type": "display_data"
    },
    {
     "data": {
      "text/plain": "<Figure size 1000x500 with 1 Axes>",
      "image/png": "[encoded data removed]"
     },
     "metadata": {},
     "output_type": "display_data"
    }
   ],
   "source": [
    "y_pred = model.predict(test_subject_feats)\n",
    "\n",
    "true_sequence = test_subject_targets[target_taxa].reset_index(drop=True)\n",
    "pred_sequence = y_pred\n",
    "\n",
    "sequence_comparisson_graphs(true_sequence, pred_sequence, target_taxa)"
   ]
  },
  {
   "cell_type": "markdown",
   "id": "ea7fc5dc8e387577",
   "metadata": {
    "collapsed": false
   },
   "source": [
    "## The Ensemble"
   ]
  },
  {
   "cell_type": "code",
   "execution_count": 17,
   "id": "997987fa2208a79c",
   "metadata": {
    "collapsed": false,
    "ExecuteTime": {
     "end_time": "2023-10-29T18:11:50.387269069Z",
     "start_time": "2023-10-29T18:11:50.320915846Z"
    }
   },
   "outputs": [],
   "source": [
    "class ensemble():\n",
    "        \n",
    "    def __init__(self, ensemble_name, loss, seq_length, overwrite_on_train=False):\n",
    "        \n",
    "        self.models_out_dir = f\"{root_dir}/models/{ensemble_name}\"\n",
    "        self.overwrite_on_train = overwrite_on_train\n",
    "        self.loss = loss\n",
    "        self.seq_length = seq_length\n",
    "\n",
    "        \n",
    "    def train(self, X_sequences_train, y_targets_train, n_epochs):\n",
    "        \n",
    "        # hardcoded stuff\n",
    "        ignore_cols = [\"subject_id\", \"sampling_day\", \"ind_time\"]\n",
    "        \n",
    "        if not os.path.exists(self.models_out_dir):\n",
    "            os.mkdir(self.models_out_dir)\n",
    "        else:\n",
    "            if self.overwrite_on_train is False:\n",
    "                raise Exception(\"This model dir already exists\")\n",
    "            else:\n",
    "                print(\"Overwriting an existing model dir\")\n",
    "                shutil.rmtree(self.models_out_dir)\n",
    "                os.mkdir(self.models_out_dir)\n",
    "                \n",
    "        for taxa_idx in tqdm(y_targets_train.columns, desc=\"Training models\"):\n",
    "            \n",
    "            if taxa_idx not in ignore_cols:\n",
    "            \n",
    "                model = fetch_model(seq_length=self.seq_length)\n",
    "                model = compile_model(model, loss)\n",
    "                y_targets = y_targets_train[taxa_idx]\n",
    "                model.fit(x=X_sequences_train, y=y_targets, validation_split=0.05, epochs=n_epochs, verbose=0)\n",
    "                \n",
    "                model.save(f\"{self.models_out_dir}/{taxa_idx}.model\")\n",
    "            \n",
    "                del model\n",
    "            \n",
    "    \n",
    "    def load(self):\n",
    "        \n",
    "        self.model_dic = {}\n",
    "\n",
    "        for model_dir in tqdm(os.listdir(self.models_out_dir), desc=\"Loading the models\"):\n",
    "            taxa_idx = int(model_dir.replace(\".model\", \"\"))\n",
    "            \n",
    "            if isinstance(loss, mae_ignore_zeros):\n",
    "                model = tf.keras.models.load_model(f\"{self.models_out_dir}/{taxa_idx}.model\", compile=False)\n",
    "                model = compile_model(model, loss)\n",
    "            else:\n",
    "                model = tf.keras.models.load_model(f\"{self.models_out_dir}/{taxa_idx}.model\")\n",
    "                 \n",
    "            self.model_dic[taxa_idx] = model\n",
    "    \n",
    "         \n",
    "    def predict(self, X_sequences):\n",
    "        \n",
    "        self.load()\n",
    "        \n",
    "        n_sequences = len(X_sequences)\n",
    "        \n",
    "        pred_list = []\n",
    "        for taxa_idx in tqdm(self.model_dic.keys(), desc=\"Predicting values\"):\n",
    "            model = self.model_dic[taxa_idx]\n",
    "            pred_list.append(model.predict(X_sequences, verbose=0).reshape(n_sequences,))\n",
    "            del(model)\n",
    "            \n",
    "        pred_df = pd.DataFrame(pred_list).T\n",
    "            \n",
    "        return pred_df"
   ]
  },
  {
   "cell_type": "code",
   "execution_count": 18,
   "id": "e54cf858cfdc7a35",
   "metadata": {
    "collapsed": false,
    "ExecuteTime": {
     "end_time": "2023-10-29T18:11:50.387585419Z",
     "start_time": "2023-10-29T18:11:50.363591659Z"
    }
   },
   "outputs": [],
   "source": [
    "# Tensorflow does not play nice with my Linux machine, thus I am filtering out its warnings\n",
    "tf.compat.v1.logging.set_verbosity(tf.compat.v1.logging.ERROR)\n",
    "\n",
    "#loss = mae_ignore_zeros(false_positives_penalty_factor=0.1)\n",
    "loss = \"mae\"\n",
    "\n",
    "model_ensemble = ensemble(ensemble_name=\"test_ensemble\", loss=loss, overwrite_on_train=True, seq_length=sequence_length)"
   ]
  },
  {
   "cell_type": "code",
   "execution_count": 19,
   "outputs": [
    {
     "data": {
      "text/plain": "      364179   189384   865469   585419   564806   309391   682726  3154070  \\\n0   0.000280 0.214765 0.197215 0.001137 0.006715 0.136473 0.058753 0.000818   \n1   0.124067 0.060403 0.011783 0.005896 0.003358 0.016908 0.160671 0.098774   \n2   0.001061 0.208054 0.004567 0.001306 0.016474 0.079710 0.061151 0.158790   \n3   0.000280 0.006711 0.024525 0.017351 0.007566 0.091787 0.019185 0.095830   \n4   0.023440 0.020134 0.008908 0.002653 0.011684 0.047101 0.028777 0.005724   \n..       ...      ...      ...      ...      ...      ...      ...      ...   \n265 0.120524 0.711409 0.077127 0.006233 0.005103 0.028986 0.130695 0.011284   \n266 0.000280 0.006711 0.158990 0.021226 0.009401 0.073671 0.035971 0.089616   \n267 0.166924 0.234899 0.017647 0.002190 0.034112 0.670290 0.050360 0.139330   \n268 0.025742 0.107383 0.005074 0.001642 0.003044 0.038647 0.011990 0.194930   \n269 0.000000 0.281879 0.073349 0.012213 0.041902 0.096618 0.326139 0.000327   \n\n      553611   262095  ...   997439   193484   577170   359650   193233  \\\n0   0.003126 0.006158  ... 0.001766 0.265647 0.133902 0.697248 0.016960   \n1   0.007983 0.003772  ... 0.043079 0.020862 0.038559 0.145642 0.239112   \n2   0.000000 0.111453  ... 0.000000 0.129346 0.182575 0.391055 0.289154   \n3   0.000558 0.001770  ... 0.010946 0.057024 0.108302 0.110092 0.409338   \n4   0.000335 0.007466  ... 0.002119 0.105702 0.022545 0.088303 0.088777   \n..       ...      ...  ...      ...      ...      ...      ...      ...   \n265 0.000000 0.014778  ... 0.002472 0.033380 0.426464 0.653670 0.142169   \n266 0.003796 0.004233  ... 0.014124 0.054242 0.129056 0.143349 0.471524   \n267 0.000223 0.108990  ... 0.071328 0.723227 0.067741 0.602064 0.193886   \n268 0.004187 0.002848  ... 0.019068 0.016690 0.068479 0.084862 0.220268   \n269 0.005360 0.032712  ... 0.025424 0.097357 0.524547 0.283257 0.022822   \n\n      196664   583117   354850  subject_id  sampling_day  \n0   0.045510 0.301300 0.049261    0.608069      0.608069  \n1   0.128742 0.005436 0.004926    0.792507      0.792507  \n2   0.246929 0.252312 0.211823    0.951009      0.951009  \n3   0.133068 0.100662 0.236453    0.582133      0.582133  \n4   0.118013 0.206823 0.024631    0.907781      0.907781  \n..       ...      ...      ...         ...           ...  \n265 0.345042 0.622876 0.285714    0.890490      0.890490  \n266 0.165946 0.124406 0.330049    0.616715      0.616715  \n267 0.139817 0.054424 0.049261    0.766571      0.766571  \n268 0.076484 0.008435 0.019704    0.858790      0.858790  \n269 0.047759 0.701293 0.024631    0.599424      0.599424  \n\n[270 rows x 81 columns]",
      "text/html": "<div>\n<style scoped>\n    .dataframe tbody tr th:only-of-type {\n        vertical-align: middle;\n    }\n\n    .dataframe tbody tr th {\n        vertical-align: top;\n    }\n\n    .dataframe thead th {\n        text-align: right;\n    }\n</style>\n<table border=\"1\" class=\"dataframe\">\n  <thead>\n    <tr style=\"text-align: right;\">\n      <th></th>\n      <th>364179</th>\n      <th>189384</th>\n      <th>865469</th>\n      <th>585419</th>\n      <th>564806</th>\n      <th>309391</th>\n      <th>682726</th>\n      <th>3154070</th>\n      <th>553611</th>\n      <th>262095</th>\n      <th>...</th>\n      <th>997439</th>\n      <th>193484</th>\n      <th>577170</th>\n      <th>359650</th>\n      <th>193233</th>\n      <th>196664</th>\n      <th>583117</th>\n      <th>354850</th>\n      <th>subject_id</th>\n      <th>sampling_day</th>\n    </tr>\n  </thead>\n  <tbody>\n    <tr>\n      <th>0</th>\n      <td>0.000280</td>\n      <td>0.214765</td>\n      <td>0.197215</td>\n      <td>0.001137</td>\n      <td>0.006715</td>\n      <td>0.136473</td>\n      <td>0.058753</td>\n      <td>0.000818</td>\n      <td>0.003126</td>\n      <td>0.006158</td>\n      <td>...</td>\n      <td>0.001766</td>\n      <td>0.265647</td>\n      <td>0.133902</td>\n      <td>0.697248</td>\n      <td>0.016960</td>\n      <td>0.045510</td>\n      <td>0.301300</td>\n      <td>0.049261</td>\n      <td>0.608069</td>\n      <td>0.608069</td>\n    </tr>\n    <tr>\n      <th>1</th>\n      <td>0.124067</td>\n      <td>0.060403</td>\n      <td>0.011783</td>\n      <td>0.005896</td>\n      <td>0.003358</td>\n      <td>0.016908</td>\n      <td>0.160671</td>\n      <td>0.098774</td>\n      <td>0.007983</td>\n      <td>0.003772</td>\n      <td>...</td>\n      <td>0.043079</td>\n      <td>0.020862</td>\n      <td>0.038559</td>\n      <td>0.145642</td>\n      <td>0.239112</td>\n      <td>0.128742</td>\n      <td>0.005436</td>\n      <td>0.004926</td>\n      <td>0.792507</td>\n      <td>0.792507</td>\n    </tr>\n    <tr>\n      <th>2</th>\n      <td>0.001061</td>\n      <td>0.208054</td>\n      <td>0.004567</td>\n      <td>0.001306</td>\n      <td>0.016474</td>\n      <td>0.079710</td>\n      <td>0.061151</td>\n      <td>0.158790</td>\n      <td>0.000000</td>\n      <td>0.111453</td>\n      <td>...</td>\n      <td>0.000000</td>\n      <td>0.129346</td>\n      <td>0.182575</td>\n      <td>0.391055</td>\n      <td>0.289154</td>\n      <td>0.246929</td>\n      <td>0.252312</td>\n      <td>0.211823</td>\n      <td>0.951009</td>\n      <td>0.951009</td>\n    </tr>\n    <tr>\n      <th>3</th>\n      <td>0.000280</td>\n      <td>0.006711</td>\n      <td>0.024525</td>\n      <td>0.017351</td>\n      <td>0.007566</td>\n      <td>0.091787</td>\n      <td>0.019185</td>\n      <td>0.095830</td>\n      <td>0.000558</td>\n      <td>0.001770</td>\n      <td>...</td>\n      <td>0.010946</td>\n      <td>0.057024</td>\n      <td>0.108302</td>\n      <td>0.110092</td>\n      <td>0.409338</td>\n      <td>0.133068</td>\n      <td>0.100662</td>\n      <td>0.236453</td>\n      <td>0.582133</td>\n      <td>0.582133</td>\n    </tr>\n    <tr>\n      <th>4</th>\n      <td>0.023440</td>\n      <td>0.020134</td>\n      <td>0.008908</td>\n      <td>0.002653</td>\n      <td>0.011684</td>\n      <td>0.047101</td>\n      <td>0.028777</td>\n      <td>0.005724</td>\n      <td>0.000335</td>\n      <td>0.007466</td>\n      <td>...</td>\n      <td>0.002119</td>\n      <td>0.105702</td>\n      <td>0.022545</td>\n      <td>0.088303</td>\n      <td>0.088777</td>\n      <td>0.118013</td>\n      <td>0.206823</td>\n      <td>0.024631</td>\n      <td>0.907781</td>\n      <td>0.907781</td>\n    </tr>\n    <tr>\n      <th>...</th>\n      <td>...</td>\n      <td>...</td>\n      <td>...</td>\n      <td>...</td>\n      <td>...</td>\n      <td>...</td>\n      <td>...</td>\n      <td>...</td>\n      <td>...</td>\n      <td>...</td>\n      <td>...</td>\n      <td>...</td>\n      <td>...</td>\n      <td>...</td>\n      <td>...</td>\n      <td>...</td>\n      <td>...</td>\n      <td>...</td>\n      <td>...</td>\n      <td>...</td>\n      <td>...</td>\n    </tr>\n    <tr>\n      <th>265</th>\n      <td>0.120524</td>\n      <td>0.711409</td>\n      <td>0.077127</td>\n      <td>0.006233</td>\n      <td>0.005103</td>\n      <td>0.028986</td>\n      <td>0.130695</td>\n      <td>0.011284</td>\n      <td>0.000000</td>\n      <td>0.014778</td>\n      <td>...</td>\n      <td>0.002472</td>\n      <td>0.033380</td>\n      <td>0.426464</td>\n      <td>0.653670</td>\n      <td>0.142169</td>\n      <td>0.345042</td>\n      <td>0.622876</td>\n      <td>0.285714</td>\n      <td>0.890490</td>\n      <td>0.890490</td>\n    </tr>\n    <tr>\n      <th>266</th>\n      <td>0.000280</td>\n      <td>0.006711</td>\n      <td>0.158990</td>\n      <td>0.021226</td>\n      <td>0.009401</td>\n      <td>0.073671</td>\n      <td>0.035971</td>\n      <td>0.089616</td>\n      <td>0.003796</td>\n      <td>0.004233</td>\n      <td>...</td>\n      <td>0.014124</td>\n      <td>0.054242</td>\n      <td>0.129056</td>\n      <td>0.143349</td>\n      <td>0.471524</td>\n      <td>0.165946</td>\n      <td>0.124406</td>\n      <td>0.330049</td>\n      <td>0.616715</td>\n      <td>0.616715</td>\n    </tr>\n    <tr>\n      <th>267</th>\n      <td>0.166924</td>\n      <td>0.234899</td>\n      <td>0.017647</td>\n      <td>0.002190</td>\n      <td>0.034112</td>\n      <td>0.670290</td>\n      <td>0.050360</td>\n      <td>0.139330</td>\n      <td>0.000223</td>\n      <td>0.108990</td>\n      <td>...</td>\n      <td>0.071328</td>\n      <td>0.723227</td>\n      <td>0.067741</td>\n      <td>0.602064</td>\n      <td>0.193886</td>\n      <td>0.139817</td>\n      <td>0.054424</td>\n      <td>0.049261</td>\n      <td>0.766571</td>\n      <td>0.766571</td>\n    </tr>\n    <tr>\n      <th>268</th>\n      <td>0.025742</td>\n      <td>0.107383</td>\n      <td>0.005074</td>\n      <td>0.001642</td>\n      <td>0.003044</td>\n      <td>0.038647</td>\n      <td>0.011990</td>\n      <td>0.194930</td>\n      <td>0.004187</td>\n      <td>0.002848</td>\n      <td>...</td>\n      <td>0.019068</td>\n      <td>0.016690</td>\n      <td>0.068479</td>\n      <td>0.084862</td>\n      <td>0.220268</td>\n      <td>0.076484</td>\n      <td>0.008435</td>\n      <td>0.019704</td>\n      <td>0.858790</td>\n      <td>0.858790</td>\n    </tr>\n    <tr>\n      <th>269</th>\n      <td>0.000000</td>\n      <td>0.281879</td>\n      <td>0.073349</td>\n      <td>0.012213</td>\n      <td>0.041902</td>\n      <td>0.096618</td>\n      <td>0.326139</td>\n      <td>0.000327</td>\n      <td>0.005360</td>\n      <td>0.032712</td>\n      <td>...</td>\n      <td>0.025424</td>\n      <td>0.097357</td>\n      <td>0.524547</td>\n      <td>0.283257</td>\n      <td>0.022822</td>\n      <td>0.047759</td>\n      <td>0.701293</td>\n      <td>0.024631</td>\n      <td>0.599424</td>\n      <td>0.599424</td>\n    </tr>\n  </tbody>\n</table>\n<p>270 rows × 81 columns</p>\n</div>"
     },
     "execution_count": 19,
     "metadata": {},
     "output_type": "execute_result"
    }
   ],
   "source": [
    "train_targets"
   ],
   "metadata": {
    "collapsed": false,
    "ExecuteTime": {
     "end_time": "2023-10-29T18:11:50.425465855Z",
     "start_time": "2023-10-29T18:11:50.373843569Z"
    }
   },
   "id": "c3f44b251c9f386b"
  },
  {
   "cell_type": "code",
   "execution_count": 20,
   "id": "2bb0a1eba7e9a43c",
   "metadata": {
    "collapsed": false,
    "ExecuteTime": {
     "end_time": "2023-10-29T18:11:50.527904699Z",
     "start_time": "2023-10-29T18:11:50.425675142Z"
    }
   },
   "outputs": [],
   "source": [
    "#model_ensemble.train(X_sequences_train=train_feats, y_targets_train=train_targets, n_epochs=15)"
   ]
  },
  {
   "cell_type": "markdown",
   "id": "456aa2f33ed07bd",
   "metadata": {
    "collapsed": false
   },
   "source": [
    "## Validation"
   ]
  },
  {
   "cell_type": "code",
   "execution_count": 21,
   "outputs": [
    {
     "data": {
      "text/plain": "array(['E001958', 'E003188', 'E004628'], dtype=object)"
     },
     "execution_count": 21,
     "metadata": {},
     "output_type": "execute_result"
    }
   ],
   "source": [
    "test_subjects"
   ],
   "metadata": {
    "collapsed": false,
    "ExecuteTime": {
     "end_time": "2023-10-29T18:11:50.561111047Z",
     "start_time": "2023-10-29T18:11:50.466310414Z"
    }
   },
   "id": "37d47990fd5c646f"
  },
  {
   "cell_type": "code",
   "execution_count": 22,
   "id": "5790653a592d2c54",
   "metadata": {
    "collapsed": false,
    "ExecuteTime": {
     "end_time": "2023-10-29T18:11:50.575493553Z",
     "start_time": "2023-10-29T18:11:50.514056587Z"
    }
   },
   "outputs": [
    {
     "data": {
      "text/plain": "0      0.000520\n1      0.315436\n2      0.163669\n3      0.041693\n4      0.029949\n         ...   \n1210   0.021457\n1211   0.068889\n1212   0.507389\n1213   0.994236\n1214   0.994236\nLength: 1215, dtype: float64"
     },
     "execution_count": 22,
     "metadata": {},
     "output_type": "execute_result"
    }
   ],
   "source": [
    "target_subject_idx = 0\n",
    "target_subject = test_subjects[target_subject_idx]\n",
    "\n",
    "target_subject_y_test_df = pd.concat(test_targets[target_subject]).T\n",
    "target_subject_y_test_df.columns = df.columns[:-1]\n",
    "\n",
    "target_subject_y_test_df = target_subject_y_test_df.reset_index(drop=True)\n",
    "target_subject_y_test_df"
   ]
  },
  {
   "cell_type": "code",
   "execution_count": 23,
   "outputs": [],
   "source": [
    "target_subject_feats = test_feats[target_subject]"
   ],
   "metadata": {
    "collapsed": false,
    "ExecuteTime": {
     "end_time": "2023-10-29T18:11:50.617173407Z",
     "start_time": "2023-10-29T18:11:50.558049068Z"
    }
   },
   "id": "4f01b7e3ab5ee0e8"
  },
  {
   "cell_type": "code",
   "execution_count": 24,
   "id": "c0a7beaed868962c",
   "metadata": {
    "collapsed": false,
    "ExecuteTime": {
     "end_time": "2023-10-29T18:13:54.656311362Z",
     "start_time": "2023-10-29T18:11:50.599314726Z"
    }
   },
   "outputs": [
    {
     "name": "stderr",
     "output_type": "stream",
     "text": [
      "Loading the models: 100%|██████████| 79/79 [02:03<00:00,  1.56s/it]\n",
      "Predicting values:   0%|          | 0/79 [00:00<?, ?it/s]\n"
     ]
    },
    {
     "ename": "ValueError",
     "evalue": "in user code:\n\n    File \"/home/nate/anaconda3/envs/tu_medical/lib/python3.10/site-packages/keras/src/engine/training.py\", line 2341, in predict_function  *\n        return step_function(self, iterator)\n    File \"/home/nate/anaconda3/envs/tu_medical/lib/python3.10/site-packages/keras/src/engine/training.py\", line 2327, in step_function  **\n        outputs = model.distribute_strategy.run(run_step, args=(data,))\n    File \"/home/nate/anaconda3/envs/tu_medical/lib/python3.10/site-packages/keras/src/engine/training.py\", line 2315, in run_step  **\n        outputs = model.predict_step(data)\n    File \"/home/nate/anaconda3/envs/tu_medical/lib/python3.10/site-packages/keras/src/engine/training.py\", line 2283, in predict_step\n        return self(x, training=False)\n    File \"/home/nate/anaconda3/envs/tu_medical/lib/python3.10/site-packages/keras/src/utils/traceback_utils.py\", line 70, in error_handler\n        raise e.with_traceback(filtered_tb) from None\n    File \"/home/nate/anaconda3/envs/tu_medical/lib/python3.10/site-packages/keras/src/engine/input_spec.py\", line 219, in assert_input_compatibility\n        raise ValueError(\n\n    ValueError: Layer \"sequential_1\" expects 1 input(s), but it received 15 input tensors. Inputs received: [<tf.Tensor 'IteratorGetNext:0' shape=(None, 81) dtype=float32>, <tf.Tensor 'IteratorGetNext:1' shape=(None, 81) dtype=float32>, <tf.Tensor 'IteratorGetNext:2' shape=(None, 81) dtype=float32>, <tf.Tensor 'IteratorGetNext:3' shape=(None, 81) dtype=float32>, <tf.Tensor 'IteratorGetNext:4' shape=(None, 81) dtype=float32>, <tf.Tensor 'IteratorGetNext:5' shape=(None, 81) dtype=float32>, <tf.Tensor 'IteratorGetNext:6' shape=(None, 81) dtype=float32>, <tf.Tensor 'IteratorGetNext:7' shape=(None, 81) dtype=float32>, <tf.Tensor 'IteratorGetNext:8' shape=(None, 81) dtype=float32>, <tf.Tensor 'IteratorGetNext:9' shape=(None, 81) dtype=float32>, <tf.Tensor 'IteratorGetNext:10' shape=(None, 81) dtype=float32>, <tf.Tensor 'IteratorGetNext:11' shape=(None, 81) dtype=float32>, <tf.Tensor 'IteratorGetNext:12' shape=(None, 81) dtype=float32>, <tf.Tensor 'IteratorGetNext:13' shape=(None, 81) dtype=float32>, <tf.Tensor 'IteratorGetNext:14' shape=(None, 81) dtype=float32>]\n",
     "output_type": "error",
     "traceback": [
      "\u001B[0;31m---------------------------------------------------------------------------\u001B[0m",
      "\u001B[0;31mValueError\u001B[0m                                Traceback (most recent call last)",
      "Cell \u001B[0;32mIn[24], line 1\u001B[0m\n\u001B[0;32m----> 1\u001B[0m target_subject_y_pred_df \u001B[38;5;241m=\u001B[39m \u001B[43mmodel_ensemble\u001B[49m\u001B[38;5;241;43m.\u001B[39;49m\u001B[43mpredict\u001B[49m\u001B[43m(\u001B[49m\u001B[43mtarget_subject_feats\u001B[49m\u001B[43m)\u001B[49m\n\u001B[1;32m      2\u001B[0m target_subject_y_pred_df \u001B[38;5;241m=\u001B[39m target_subject_y_pred_df\u001B[38;5;241m.\u001B[39mreset_index(drop\u001B[38;5;241m=\u001B[39m\u001B[38;5;28;01mTrue\u001B[39;00m)\n\u001B[1;32m      3\u001B[0m target_subject_y_pred_df\u001B[38;5;241m.\u001B[39mcolumns \u001B[38;5;241m=\u001B[39m target_subject_y_test_df\u001B[38;5;241m.\u001B[39mcolumns\n",
      "Cell \u001B[0;32mIn[17], line 65\u001B[0m, in \u001B[0;36mensemble.predict\u001B[0;34m(self, X_sequences)\u001B[0m\n\u001B[1;32m     63\u001B[0m \u001B[38;5;28;01mfor\u001B[39;00m taxa_idx \u001B[38;5;129;01min\u001B[39;00m tqdm(\u001B[38;5;28mself\u001B[39m\u001B[38;5;241m.\u001B[39mmodel_dic\u001B[38;5;241m.\u001B[39mkeys(), desc\u001B[38;5;241m=\u001B[39m\u001B[38;5;124m\"\u001B[39m\u001B[38;5;124mPredicting values\u001B[39m\u001B[38;5;124m\"\u001B[39m):\n\u001B[1;32m     64\u001B[0m     model \u001B[38;5;241m=\u001B[39m \u001B[38;5;28mself\u001B[39m\u001B[38;5;241m.\u001B[39mmodel_dic[taxa_idx]\n\u001B[0;32m---> 65\u001B[0m     pred_list\u001B[38;5;241m.\u001B[39mappend(\u001B[43mmodel\u001B[49m\u001B[38;5;241;43m.\u001B[39;49m\u001B[43mpredict\u001B[49m\u001B[43m(\u001B[49m\u001B[43mX_sequences\u001B[49m\u001B[43m,\u001B[49m\u001B[43m \u001B[49m\u001B[43mverbose\u001B[49m\u001B[38;5;241;43m=\u001B[39;49m\u001B[38;5;241;43m0\u001B[39;49m\u001B[43m)\u001B[49m\u001B[38;5;241m.\u001B[39mreshape(n_sequences,))\n\u001B[1;32m     66\u001B[0m     \u001B[38;5;28;01mdel\u001B[39;00m(model)\n\u001B[1;32m     68\u001B[0m pred_df \u001B[38;5;241m=\u001B[39m pd\u001B[38;5;241m.\u001B[39mDataFrame(pred_list)\u001B[38;5;241m.\u001B[39mT\n",
      "File \u001B[0;32m~/anaconda3/envs/tu_medical/lib/python3.10/site-packages/keras/src/utils/traceback_utils.py:70\u001B[0m, in \u001B[0;36mfilter_traceback.<locals>.error_handler\u001B[0;34m(*args, **kwargs)\u001B[0m\n\u001B[1;32m     67\u001B[0m     filtered_tb \u001B[38;5;241m=\u001B[39m _process_traceback_frames(e\u001B[38;5;241m.\u001B[39m__traceback__)\n\u001B[1;32m     68\u001B[0m     \u001B[38;5;66;03m# To get the full stack trace, call:\u001B[39;00m\n\u001B[1;32m     69\u001B[0m     \u001B[38;5;66;03m# `tf.debugging.disable_traceback_filtering()`\u001B[39;00m\n\u001B[0;32m---> 70\u001B[0m     \u001B[38;5;28;01mraise\u001B[39;00m e\u001B[38;5;241m.\u001B[39mwith_traceback(filtered_tb) \u001B[38;5;28;01mfrom\u001B[39;00m \u001B[38;5;28;01mNone\u001B[39;00m\n\u001B[1;32m     71\u001B[0m \u001B[38;5;28;01mfinally\u001B[39;00m:\n\u001B[1;32m     72\u001B[0m     \u001B[38;5;28;01mdel\u001B[39;00m filtered_tb\n",
      "File \u001B[0;32m/tmp/__autograph_generated_fileu_o555ca.py:15\u001B[0m, in \u001B[0;36mouter_factory.<locals>.inner_factory.<locals>.tf__predict_function\u001B[0;34m(iterator)\u001B[0m\n\u001B[1;32m     13\u001B[0m \u001B[38;5;28;01mtry\u001B[39;00m:\n\u001B[1;32m     14\u001B[0m     do_return \u001B[38;5;241m=\u001B[39m \u001B[38;5;28;01mTrue\u001B[39;00m\n\u001B[0;32m---> 15\u001B[0m     retval_ \u001B[38;5;241m=\u001B[39m ag__\u001B[38;5;241m.\u001B[39mconverted_call(ag__\u001B[38;5;241m.\u001B[39mld(step_function), (ag__\u001B[38;5;241m.\u001B[39mld(\u001B[38;5;28mself\u001B[39m), ag__\u001B[38;5;241m.\u001B[39mld(iterator)), \u001B[38;5;28;01mNone\u001B[39;00m, fscope)\n\u001B[1;32m     16\u001B[0m \u001B[38;5;28;01mexcept\u001B[39;00m:\n\u001B[1;32m     17\u001B[0m     do_return \u001B[38;5;241m=\u001B[39m \u001B[38;5;28;01mFalse\u001B[39;00m\n",
      "\u001B[0;31mValueError\u001B[0m: in user code:\n\n    File \"/home/nate/anaconda3/envs/tu_medical/lib/python3.10/site-packages/keras/src/engine/training.py\", line 2341, in predict_function  *\n        return step_function(self, iterator)\n    File \"/home/nate/anaconda3/envs/tu_medical/lib/python3.10/site-packages/keras/src/engine/training.py\", line 2327, in step_function  **\n        outputs = model.distribute_strategy.run(run_step, args=(data,))\n    File \"/home/nate/anaconda3/envs/tu_medical/lib/python3.10/site-packages/keras/src/engine/training.py\", line 2315, in run_step  **\n        outputs = model.predict_step(data)\n    File \"/home/nate/anaconda3/envs/tu_medical/lib/python3.10/site-packages/keras/src/engine/training.py\", line 2283, in predict_step\n        return self(x, training=False)\n    File \"/home/nate/anaconda3/envs/tu_medical/lib/python3.10/site-packages/keras/src/utils/traceback_utils.py\", line 70, in error_handler\n        raise e.with_traceback(filtered_tb) from None\n    File \"/home/nate/anaconda3/envs/tu_medical/lib/python3.10/site-packages/keras/src/engine/input_spec.py\", line 219, in assert_input_compatibility\n        raise ValueError(\n\n    ValueError: Layer \"sequential_1\" expects 1 input(s), but it received 15 input tensors. Inputs received: [<tf.Tensor 'IteratorGetNext:0' shape=(None, 81) dtype=float32>, <tf.Tensor 'IteratorGetNext:1' shape=(None, 81) dtype=float32>, <tf.Tensor 'IteratorGetNext:2' shape=(None, 81) dtype=float32>, <tf.Tensor 'IteratorGetNext:3' shape=(None, 81) dtype=float32>, <tf.Tensor 'IteratorGetNext:4' shape=(None, 81) dtype=float32>, <tf.Tensor 'IteratorGetNext:5' shape=(None, 81) dtype=float32>, <tf.Tensor 'IteratorGetNext:6' shape=(None, 81) dtype=float32>, <tf.Tensor 'IteratorGetNext:7' shape=(None, 81) dtype=float32>, <tf.Tensor 'IteratorGetNext:8' shape=(None, 81) dtype=float32>, <tf.Tensor 'IteratorGetNext:9' shape=(None, 81) dtype=float32>, <tf.Tensor 'IteratorGetNext:10' shape=(None, 81) dtype=float32>, <tf.Tensor 'IteratorGetNext:11' shape=(None, 81) dtype=float32>, <tf.Tensor 'IteratorGetNext:12' shape=(None, 81) dtype=float32>, <tf.Tensor 'IteratorGetNext:13' shape=(None, 81) dtype=float32>, <tf.Tensor 'IteratorGetNext:14' shape=(None, 81) dtype=float32>]\n"
     ]
    }
   ],
   "source": [
    "target_subject_y_pred_df = model_ensemble.predict(target_subject_feats)\n",
    "target_subject_y_pred_df = target_subject_y_pred_df.reset_index(drop=True)\n",
    "target_subject_y_pred_df.columns = target_subject_y_test_df.columns"
   ]
  },
  {
   "cell_type": "code",
   "execution_count": null,
   "id": "7e7471ce35431cba",
   "metadata": {
    "collapsed": false,
    "ExecuteTime": {
     "end_time": "2023-10-29T18:13:54.659678149Z",
     "start_time": "2023-10-29T18:13:54.657238634Z"
    }
   },
   "outputs": [],
   "source": [
    "target_subject_y_pred_df"
   ]
  },
  {
   "cell_type": "code",
   "execution_count": null,
   "id": "8104bab744d042dd",
   "metadata": {
    "collapsed": false,
    "ExecuteTime": {
     "end_time": "2023-10-29T18:13:54.660854734Z",
     "start_time": "2023-10-29T18:13:54.659830558Z"
    }
   },
   "outputs": [],
   "source": [
    "non_predicted_cols = [col for col in target_subject_y_pred_df.columns if all(target_subject_y_pred_df[col] == 0.0)]\n",
    "n_non_predicted_cols = len(non_predicted_cols)\n",
    "\n",
    "print(f\"Total taxa not predicted: {n_non_predicted_cols}, {(n_non_predicted_cols/len(target_subject_y_pred_df.columns)) * 100}% of all taxa\")"
   ]
  },
  {
   "cell_type": "code",
   "execution_count": null,
   "id": "353c95f6af4f7a53",
   "metadata": {
    "collapsed": false,
    "ExecuteTime": {
     "start_time": "2023-10-29T18:13:54.700473592Z"
    }
   },
   "outputs": [],
   "source": [
    "target_taxa = 585419\n",
    "\n",
    "true_sequence = target_subject_y_pred_df[target_taxa].reset_index(drop=True)\n",
    "pred_sequence = target_subject_y_pred_df[target_taxa]\n",
    "\n",
    "sequence_comparisson_graphs(true_sequence, pred_sequence, target_taxa)"
   ]
  },
  {
   "cell_type": "code",
   "execution_count": null,
   "id": "a9602762756e3734",
   "metadata": {
    "collapsed": false,
    "ExecuteTime": {
     "start_time": "2023-10-29T18:13:54.700628266Z"
    }
   },
   "outputs": [],
   "source": [
    "errors_df = calculate_percentage_errors(target_subject_y_pred_df, target_subject_y_test_df)\n",
    "errors_df.describe()"
   ]
  },
  {
   "cell_type": "code",
   "execution_count": null,
   "id": "914cead415f43b69",
   "metadata": {
    "collapsed": false,
    "ExecuteTime": {
     "start_time": "2023-10-29T18:13:54.700680966Z"
    }
   },
   "outputs": [],
   "source": [
    "percentile_graph(errors_df, \"accross all taxa\", y_top_lim=2)"
   ]
  },
  {
   "cell_type": "code",
   "execution_count": null,
   "id": "a697b39e4a14f4c7",
   "metadata": {
    "collapsed": false,
    "ExecuteTime": {
     "end_time": "2023-10-29T18:13:54.704443605Z",
     "start_time": "2023-10-29T18:13:54.700729488Z"
    }
   },
   "outputs": [],
   "source": [
    "only_predicted_errors = errors_df[errors_df.columns[~(errors_df.columns.isin(non_predicted_cols))]]\n",
    "only_predicted_errors.describe()"
   ]
  },
  {
   "cell_type": "code",
   "execution_count": null,
   "id": "e3b76c45871acc26",
   "metadata": {
    "collapsed": false,
    "ExecuteTime": {
     "start_time": "2023-10-29T18:13:54.700776668Z"
    }
   },
   "outputs": [],
   "source": [
    "percentile_graph(only_predicted_errors, \"accross successfully predicted taxa LSTM sequence on Float\", y_top_lim=1)"
   ]
  }
 ],
 "metadata": {
  "kernelspec": {
   "display_name": "Python 3 (ipykernel)",
   "language": "python",
   "name": "python3"
  },
  "language_info": {
   "codemirror_mode": {
    "name": "ipython",
    "version": 3
   },
   "file_extension": ".py",
   "mimetype": "text/x-python",
   "name": "python",
   "nbconvert_exporter": "python",
   "pygments_lexer": "ipython3",
   "version": "3.10.13"
  }
 },
 "nbformat": 4,
 "nbformat_minor": 5
}
